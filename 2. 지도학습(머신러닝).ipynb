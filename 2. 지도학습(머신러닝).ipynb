{
 "cells": [
  {
   "cell_type": "markdown",
   "metadata": {},
   "source": [
    "# 지도학습(머신러닝)\n",
    "- 머신러닝으로 AI 모델링하기\n",
    "    - 데이터 : 국민건강보험공단_건강검진정보\n",
    "- 딥러닝으로 AI 모델링하기\n",
    "    - invistico_Airline"
   ]
  },
  {
   "cell_type": "code",
   "execution_count": 1,
   "metadata": {},
   "outputs": [],
   "source": [
    "import pandas as pd\n",
    "import seaborn as sns\n",
    "import numpy as np\n",
    "import matplotlib.pyplot as plt"
   ]
  },
  {
   "cell_type": "markdown",
   "metadata": {},
   "source": [
    "# 1.선형회귀(Linear Regression)\n",
    "- 데이터를 잘 표현하는 최적의 직선으로 예측을 하는 방법론\n",
    "- y = ax + b"
   ]
  },
  {
   "cell_type": "code",
   "execution_count": 2,
   "metadata": {},
   "outputs": [
    {
     "name": "stdout",
     "output_type": "stream",
     "text": [
      "x :  [1, 2, 3, 4, 5, 6, 7, 8, 9, 10]\n",
      "y :  [11, 15, 19, 23, 27, 31, 35, 39, 43, 47]\n"
     ]
    }
   ],
   "source": [
    "# 데이터 만들기(y=4x+7)\n",
    "np.random.seed(2023)\n",
    "x = []\n",
    "y = []\n",
    "\n",
    "for a in range(1,11):\n",
    "    x.append(a)\n",
    "    y.append(4*a+7)\n",
    "    \n",
    "#데이터 확인\n",
    "print(\"x : \", x)\n",
    "print(\"y : \", y)\n"
   ]
  },
  {
   "cell_type": "code",
   "execution_count": 3,
   "metadata": {},
   "outputs": [
    {
     "name": "stdout",
     "output_type": "stream",
     "text": [
      "데이터 확인\n",
      "x :  [[ 1]\n",
      " [ 2]\n",
      " [ 3]\n",
      " [ 4]\n",
      " [ 5]\n",
      " [ 6]\n",
      " [ 7]\n",
      " [ 8]\n",
      " [ 9]\n",
      " [10]]\n",
      "x.shape :  (10, 1)\n"
     ]
    }
   ],
   "source": [
    "# 선형회귀 라이브러리 불러오기\n",
    "from sklearn.linear_model import LinearRegression\n",
    "\n",
    "LR = LinearRegression()\n",
    "\n",
    "# 학습을 위한 행열변경((1,10) -> (10,1))\n",
    "x = np.array(x).reshape(-1,1)\n",
    "\n",
    "# 데이터 확인하기\n",
    "print('데이터 확인')\n",
    "print(\"x : \", x)\n",
    "print(\"x.shape : \", x.shape)"
   ]
  },
  {
   "cell_type": "code",
   "execution_count": 4,
   "metadata": {},
   "outputs": [
    {
     "name": "stdout",
     "output_type": "stream",
     "text": [
      "기울기\n",
      "[4.]\n",
      "절편\n",
      "7.000000000000011\n"
     ]
    },
    {
     "data": {
      "image/png": "[encoded data removed]",
      "text/plain": [
       "<Figure size 640x480 with 1 Axes>"
      ]
     },
     "metadata": {},
     "output_type": "display_data"
    }
   ],
   "source": [
    "# 학습\n",
    "LR.fit(x,y)\n",
    "\n",
    "# coef, intercept 확인\n",
    "print(\"기울기\")\n",
    "print(LR.coef_)\n",
    "print(\"절편\")\n",
    "print(LR.intercept_)\n",
    "\n",
    "# 결과 보기\n",
    "\n",
    "# 점\n",
    "plt.scatter(x, y, color = 'r', s=20)\n",
    "# 선\n",
    "y_hat = x * LR.coef_ + LR.intercept_\n",
    "plt.plot(x, y_hat, color = 'orange')\n",
    "\n",
    "plt.xlabel('x')\n",
    "plt.ylabel('y')\n",
    "\n",
    "plt.show()"
   ]
  },
  {
   "cell_type": "markdown",
   "metadata": {},
   "source": [
    "### 사례 기반 실습\n",
    "- 데이터 출처 : https://www.data.go.kr/data/15007122/fileData.do\n",
    "- 데이터 파일명 : 국민건강보험공단_건강검진정보\n",
    "\n",
    "### 목표\n",
    "- 다양한 데이터를 바탕으로 LDL 콜레스테롤 수치를 예측해 보는 선형회귀모델 만들기\n",
    "\n",
    "### 가정\n",
    "- 데이터 중 치아 관련 문항은 콜레스테롤과 상관없다"
   ]
  },
  {
   "cell_type": "markdown",
   "metadata": {},
   "source": [
    "# 2.선형회귀 실습하기"
   ]
  },
  {
   "cell_type": "markdown",
   "metadata": {},
   "source": [
    "### 2-1._데이터 전처리"
   ]
  },
  {
   "cell_type": "code",
   "execution_count": 5,
   "metadata": {},
   "outputs": [
    {
     "data": {
      "text/html": [
       "<div>\n",
       "<style scoped>\n",
       "    .dataframe tbody tr th:only-of-type {\n",
       "        vertical-align: middle;\n",
       "    }\n",
       "\n",
       "    .dataframe tbody tr th {\n",
       "        vertical-align: top;\n",
       "    }\n",
       "\n",
       "    .dataframe thead th {\n",
       "        text-align: right;\n",
       "    }\n",
       "</style>\n",
       "<table border=\"1\" class=\"dataframe\">\n",
       "  <thead>\n",
       "    <tr style=\"text-align: right;\">\n",
       "      <th></th>\n",
       "      <th>HCHK_YEAR</th>\n",
       "      <th>IDV_ID</th>\n",
       "      <th>SIDO</th>\n",
       "      <th>SEX</th>\n",
       "      <th>AGE_GROUP</th>\n",
       "      <th>HEIGHT</th>\n",
       "      <th>WEIGHT</th>\n",
       "      <th>WAIST</th>\n",
       "      <th>SIGHT_LEFT</th>\n",
       "      <th>SIGHT_RIGHT</th>\n",
       "      <th>HEAR_LEFT</th>\n",
       "      <th>HEAR_RIGHT</th>\n",
       "      <th>BP_HIGH</th>\n",
       "      <th>BP_LWST</th>\n",
       "      <th>BLDS</th>\n",
       "      <th>TOT_CHOLE</th>\n",
       "      <th>TRIGLYCERIDE</th>\n",
       "      <th>HDL_CHOLE</th>\n",
       "      <th>LDL_CHOLE</th>\n",
       "      <th>HMG</th>\n",
       "      <th>OLIG_PROTE_CD</th>\n",
       "      <th>CREATININE</th>\n",
       "      <th>SGOT_AST</th>\n",
       "      <th>SGPT_ALT</th>\n",
       "      <th>GAMMA_GTP</th>\n",
       "      <th>SMK_STAT_TYPE_CD</th>\n",
       "      <th>DRK_YN</th>\n",
       "      <th>HCHK_OE_INSPEC_YN</th>\n",
       "      <th>CRS_YN</th>\n",
       "      <th>TTH_MSS_YN</th>\n",
       "      <th>ODT_TRB_YN</th>\n",
       "      <th>WSDM_DIS_YN</th>\n",
       "      <th>TTR_YN</th>\n",
       "      <th>DATA_STD_DT</th>\n",
       "    </tr>\n",
       "  </thead>\n",
       "  <tbody>\n",
       "    <tr>\n",
       "      <th>0</th>\n",
       "      <td>2021</td>\n",
       "      <td>2551207</td>\n",
       "      <td>41</td>\n",
       "      <td>2</td>\n",
       "      <td>12</td>\n",
       "      <td>160</td>\n",
       "      <td>60</td>\n",
       "      <td>79.0</td>\n",
       "      <td>0.0</td>\n",
       "      <td>0.0</td>\n",
       "      <td>1.0</td>\n",
       "      <td>1.0</td>\n",
       "      <td>101.0</td>\n",
       "      <td>60.0</td>\n",
       "      <td>93.0</td>\n",
       "      <td>NaN</td>\n",
       "      <td>NaN</td>\n",
       "      <td>NaN</td>\n",
       "      <td>NaN</td>\n",
       "      <td>13.0</td>\n",
       "      <td>1.0</td>\n",
       "      <td>0.0</td>\n",
       "      <td>23.0</td>\n",
       "      <td>21.0</td>\n",
       "      <td>23.0</td>\n",
       "      <td>1.0</td>\n",
       "      <td>0.0</td>\n",
       "      <td>0</td>\n",
       "      <td>NaN</td>\n",
       "      <td>NaN</td>\n",
       "      <td>NaN</td>\n",
       "      <td>NaN</td>\n",
       "      <td>NaN</td>\n",
       "      <td>2022-08-11</td>\n",
       "    </tr>\n",
       "    <tr>\n",
       "      <th>1</th>\n",
       "      <td>2021</td>\n",
       "      <td>4030716</td>\n",
       "      <td>41</td>\n",
       "      <td>2</td>\n",
       "      <td>11</td>\n",
       "      <td>160</td>\n",
       "      <td>60</td>\n",
       "      <td>74.0</td>\n",
       "      <td>0.0</td>\n",
       "      <td>0.0</td>\n",
       "      <td>1.0</td>\n",
       "      <td>1.0</td>\n",
       "      <td>121.0</td>\n",
       "      <td>75.0</td>\n",
       "      <td>108.0</td>\n",
       "      <td>NaN</td>\n",
       "      <td>NaN</td>\n",
       "      <td>NaN</td>\n",
       "      <td>NaN</td>\n",
       "      <td>13.0</td>\n",
       "      <td>1.0</td>\n",
       "      <td>0.0</td>\n",
       "      <td>22.0</td>\n",
       "      <td>21.0</td>\n",
       "      <td>12.0</td>\n",
       "      <td>1.0</td>\n",
       "      <td>1.0</td>\n",
       "      <td>0</td>\n",
       "      <td>NaN</td>\n",
       "      <td>NaN</td>\n",
       "      <td>NaN</td>\n",
       "      <td>NaN</td>\n",
       "      <td>NaN</td>\n",
       "      <td>2022-08-11</td>\n",
       "    </tr>\n",
       "    <tr>\n",
       "      <th>2</th>\n",
       "      <td>2021</td>\n",
       "      <td>3297511</td>\n",
       "      <td>41</td>\n",
       "      <td>2</td>\n",
       "      <td>9</td>\n",
       "      <td>150</td>\n",
       "      <td>60</td>\n",
       "      <td>72.0</td>\n",
       "      <td>0.0</td>\n",
       "      <td>0.0</td>\n",
       "      <td>1.0</td>\n",
       "      <td>1.0</td>\n",
       "      <td>135.0</td>\n",
       "      <td>82.0</td>\n",
       "      <td>104.0</td>\n",
       "      <td>NaN</td>\n",
       "      <td>NaN</td>\n",
       "      <td>NaN</td>\n",
       "      <td>NaN</td>\n",
       "      <td>13.0</td>\n",
       "      <td>1.0</td>\n",
       "      <td>0.0</td>\n",
       "      <td>18.0</td>\n",
       "      <td>26.0</td>\n",
       "      <td>70.0</td>\n",
       "      <td>1.0</td>\n",
       "      <td>1.0</td>\n",
       "      <td>0</td>\n",
       "      <td>NaN</td>\n",
       "      <td>NaN</td>\n",
       "      <td>NaN</td>\n",
       "      <td>NaN</td>\n",
       "      <td>NaN</td>\n",
       "      <td>2022-08-11</td>\n",
       "    </tr>\n",
       "    <tr>\n",
       "      <th>3</th>\n",
       "      <td>2021</td>\n",
       "      <td>1638533</td>\n",
       "      <td>41</td>\n",
       "      <td>2</td>\n",
       "      <td>16</td>\n",
       "      <td>150</td>\n",
       "      <td>60</td>\n",
       "      <td>86.0</td>\n",
       "      <td>0.0</td>\n",
       "      <td>0.0</td>\n",
       "      <td>1.0</td>\n",
       "      <td>1.0</td>\n",
       "      <td>130.0</td>\n",
       "      <td>77.0</td>\n",
       "      <td>146.0</td>\n",
       "      <td>NaN</td>\n",
       "      <td>NaN</td>\n",
       "      <td>NaN</td>\n",
       "      <td>NaN</td>\n",
       "      <td>13.0</td>\n",
       "      <td>1.0</td>\n",
       "      <td>0.0</td>\n",
       "      <td>17.0</td>\n",
       "      <td>9.0</td>\n",
       "      <td>24.0</td>\n",
       "      <td>1.0</td>\n",
       "      <td>0.0</td>\n",
       "      <td>0</td>\n",
       "      <td>NaN</td>\n",
       "      <td>NaN</td>\n",
       "      <td>NaN</td>\n",
       "      <td>NaN</td>\n",
       "      <td>NaN</td>\n",
       "      <td>2022-08-11</td>\n",
       "    </tr>\n",
       "    <tr>\n",
       "      <th>4</th>\n",
       "      <td>2021</td>\n",
       "      <td>456602</td>\n",
       "      <td>41</td>\n",
       "      <td>2</td>\n",
       "      <td>13</td>\n",
       "      <td>155</td>\n",
       "      <td>60</td>\n",
       "      <td>66.0</td>\n",
       "      <td>0.0</td>\n",
       "      <td>0.0</td>\n",
       "      <td>1.0</td>\n",
       "      <td>1.0</td>\n",
       "      <td>120.0</td>\n",
       "      <td>80.0</td>\n",
       "      <td>90.0</td>\n",
       "      <td>NaN</td>\n",
       "      <td>NaN</td>\n",
       "      <td>NaN</td>\n",
       "      <td>NaN</td>\n",
       "      <td>13.0</td>\n",
       "      <td>1.0</td>\n",
       "      <td>0.0</td>\n",
       "      <td>27.0</td>\n",
       "      <td>19.0</td>\n",
       "      <td>12.0</td>\n",
       "      <td>1.0</td>\n",
       "      <td>1.0</td>\n",
       "      <td>0</td>\n",
       "      <td>NaN</td>\n",
       "      <td>NaN</td>\n",
       "      <td>NaN</td>\n",
       "      <td>NaN</td>\n",
       "      <td>NaN</td>\n",
       "      <td>2022-08-11</td>\n",
       "    </tr>\n",
       "  </tbody>\n",
       "</table>\n",
       "</div>"
      ],
      "text/plain": [
       "   HCHK_YEAR   IDV_ID  SIDO  SEX  AGE_GROUP  HEIGHT  WEIGHT  WAIST  \\\n",
       "0       2021  2551207    41    2         12     160      60   79.0   \n",
       "1       2021  4030716    41    2         11     160      60   74.0   \n",
       "2       2021  3297511    41    2          9     150      60   72.0   \n",
       "3       2021  1638533    41    2         16     150      60   86.0   \n",
       "4       2021   456602    41    2         13     155      60   66.0   \n",
       "\n",
       "   SIGHT_LEFT  SIGHT_RIGHT  HEAR_LEFT  HEAR_RIGHT  BP_HIGH  BP_LWST   BLDS  \\\n",
       "0         0.0          0.0        1.0         1.0    101.0     60.0   93.0   \n",
       "1         0.0          0.0        1.0         1.0    121.0     75.0  108.0   \n",
       "2         0.0          0.0        1.0         1.0    135.0     82.0  104.0   \n",
       "3         0.0          0.0        1.0         1.0    130.0     77.0  146.0   \n",
       "4         0.0          0.0        1.0         1.0    120.0     80.0   90.0   \n",
       "\n",
       "   TOT_CHOLE  TRIGLYCERIDE  HDL_CHOLE  LDL_CHOLE   HMG  OLIG_PROTE_CD  \\\n",
       "0        NaN           NaN        NaN        NaN  13.0            1.0   \n",
       "1        NaN           NaN        NaN        NaN  13.0            1.0   \n",
       "2        NaN           NaN        NaN        NaN  13.0            1.0   \n",
       "3        NaN           NaN        NaN        NaN  13.0            1.0   \n",
       "4        NaN           NaN        NaN        NaN  13.0            1.0   \n",
       "\n",
       "   CREATININE  SGOT_AST  SGPT_ALT  GAMMA_GTP  SMK_STAT_TYPE_CD  DRK_YN  \\\n",
       "0         0.0      23.0      21.0       23.0               1.0     0.0   \n",
       "1         0.0      22.0      21.0       12.0               1.0     1.0   \n",
       "2         0.0      18.0      26.0       70.0               1.0     1.0   \n",
       "3         0.0      17.0       9.0       24.0               1.0     0.0   \n",
       "4         0.0      27.0      19.0       12.0               1.0     1.0   \n",
       "\n",
       "   HCHK_OE_INSPEC_YN  CRS_YN  TTH_MSS_YN  ODT_TRB_YN  WSDM_DIS_YN  TTR_YN  \\\n",
       "0                  0     NaN         NaN         NaN          NaN     NaN   \n",
       "1                  0     NaN         NaN         NaN          NaN     NaN   \n",
       "2                  0     NaN         NaN         NaN          NaN     NaN   \n",
       "3                  0     NaN         NaN         NaN          NaN     NaN   \n",
       "4                  0     NaN         NaN         NaN          NaN     NaN   \n",
       "\n",
       "  DATA_STD_DT  \n",
       "0  2022-08-11  \n",
       "1  2022-08-11  \n",
       "2  2022-08-11  \n",
       "3  2022-08-11  \n",
       "4  2022-08-11  "
      ]
     },
     "execution_count": 5,
     "metadata": {},
     "output_type": "execute_result"
    }
   ],
   "source": [
    "# 데이터 불러오기\n",
    "df = pd.read_csv('./지도학습_데이터/국민건강보험공단_건강검진정보_20211231.csv', encoding='cp949')\n",
    "\n",
    "# 데이터 보는 범위 확장하기\n",
    "# display 옵션을 통한 전체 열 확장\n",
    "pd.set_option('display.max_columns', None)\n",
    "df.head()"
   ]
  },
  {
   "cell_type": "code",
   "execution_count": 6,
   "metadata": {},
   "outputs": [
    {
     "data": {
      "text/html": [
       "<div>\n",
       "<style scoped>\n",
       "    .dataframe tbody tr th:only-of-type {\n",
       "        vertical-align: middle;\n",
       "    }\n",
       "\n",
       "    .dataframe tbody tr th {\n",
       "        vertical-align: top;\n",
       "    }\n",
       "\n",
       "    .dataframe thead th {\n",
       "        text-align: right;\n",
       "    }\n",
       "</style>\n",
       "<table border=\"1\" class=\"dataframe\">\n",
       "  <thead>\n",
       "    <tr style=\"text-align: right;\">\n",
       "      <th></th>\n",
       "      <th>기준년도</th>\n",
       "      <th>ID</th>\n",
       "      <th>시도코드</th>\n",
       "      <th>성별코드</th>\n",
       "      <th>연령대코드(5세단위)</th>\n",
       "      <th>신장(5Cm단위)</th>\n",
       "      <th>체중(5Kg 단위)</th>\n",
       "      <th>허리둘레</th>\n",
       "      <th>시력(좌)</th>\n",
       "      <th>시력(우)</th>\n",
       "      <th>청력(좌)</th>\n",
       "      <th>청력(우)</th>\n",
       "      <th>수축기혈압</th>\n",
       "      <th>이완기혈압</th>\n",
       "      <th>공복혈당</th>\n",
       "      <th>총 콜레스테롤</th>\n",
       "      <th>트리글리세라이드</th>\n",
       "      <th>HDL콜레스테롤</th>\n",
       "      <th>LDL콜레스테롤</th>\n",
       "      <th>혈색소</th>\n",
       "      <th>요단백</th>\n",
       "      <th>혈청크레아티닌</th>\n",
       "      <th>(혈청지오티)AST</th>\n",
       "      <th>(혈청지오티)ALT</th>\n",
       "      <th>감마지티피</th>\n",
       "      <th>흡연상태</th>\n",
       "      <th>음주여부</th>\n",
       "      <th>구강검진 수검여부</th>\n",
       "      <th>치아우식증유무</th>\n",
       "      <th>결손치 유무</th>\n",
       "      <th>치아마모증유무</th>\n",
       "      <th>사랑니 이상</th>\n",
       "      <th>치석</th>\n",
       "      <th>데이터 공개일차</th>\n",
       "    </tr>\n",
       "  </thead>\n",
       "  <tbody>\n",
       "    <tr>\n",
       "      <th>0</th>\n",
       "      <td>2021</td>\n",
       "      <td>2551207</td>\n",
       "      <td>41</td>\n",
       "      <td>2</td>\n",
       "      <td>12</td>\n",
       "      <td>160</td>\n",
       "      <td>60</td>\n",
       "      <td>79.0</td>\n",
       "      <td>0.0</td>\n",
       "      <td>0.0</td>\n",
       "      <td>1.0</td>\n",
       "      <td>1.0</td>\n",
       "      <td>101.0</td>\n",
       "      <td>60.0</td>\n",
       "      <td>93.0</td>\n",
       "      <td>NaN</td>\n",
       "      <td>NaN</td>\n",
       "      <td>NaN</td>\n",
       "      <td>NaN</td>\n",
       "      <td>13.0</td>\n",
       "      <td>1.0</td>\n",
       "      <td>0.0</td>\n",
       "      <td>23.0</td>\n",
       "      <td>21.0</td>\n",
       "      <td>23.0</td>\n",
       "      <td>1.0</td>\n",
       "      <td>0.0</td>\n",
       "      <td>0</td>\n",
       "      <td>NaN</td>\n",
       "      <td>NaN</td>\n",
       "      <td>NaN</td>\n",
       "      <td>NaN</td>\n",
       "      <td>NaN</td>\n",
       "      <td>2022-08-11</td>\n",
       "    </tr>\n",
       "    <tr>\n",
       "      <th>1</th>\n",
       "      <td>2021</td>\n",
       "      <td>4030716</td>\n",
       "      <td>41</td>\n",
       "      <td>2</td>\n",
       "      <td>11</td>\n",
       "      <td>160</td>\n",
       "      <td>60</td>\n",
       "      <td>74.0</td>\n",
       "      <td>0.0</td>\n",
       "      <td>0.0</td>\n",
       "      <td>1.0</td>\n",
       "      <td>1.0</td>\n",
       "      <td>121.0</td>\n",
       "      <td>75.0</td>\n",
       "      <td>108.0</td>\n",
       "      <td>NaN</td>\n",
       "      <td>NaN</td>\n",
       "      <td>NaN</td>\n",
       "      <td>NaN</td>\n",
       "      <td>13.0</td>\n",
       "      <td>1.0</td>\n",
       "      <td>0.0</td>\n",
       "      <td>22.0</td>\n",
       "      <td>21.0</td>\n",
       "      <td>12.0</td>\n",
       "      <td>1.0</td>\n",
       "      <td>1.0</td>\n",
       "      <td>0</td>\n",
       "      <td>NaN</td>\n",
       "      <td>NaN</td>\n",
       "      <td>NaN</td>\n",
       "      <td>NaN</td>\n",
       "      <td>NaN</td>\n",
       "      <td>2022-08-11</td>\n",
       "    </tr>\n",
       "    <tr>\n",
       "      <th>2</th>\n",
       "      <td>2021</td>\n",
       "      <td>3297511</td>\n",
       "      <td>41</td>\n",
       "      <td>2</td>\n",
       "      <td>9</td>\n",
       "      <td>150</td>\n",
       "      <td>60</td>\n",
       "      <td>72.0</td>\n",
       "      <td>0.0</td>\n",
       "      <td>0.0</td>\n",
       "      <td>1.0</td>\n",
       "      <td>1.0</td>\n",
       "      <td>135.0</td>\n",
       "      <td>82.0</td>\n",
       "      <td>104.0</td>\n",
       "      <td>NaN</td>\n",
       "      <td>NaN</td>\n",
       "      <td>NaN</td>\n",
       "      <td>NaN</td>\n",
       "      <td>13.0</td>\n",
       "      <td>1.0</td>\n",
       "      <td>0.0</td>\n",
       "      <td>18.0</td>\n",
       "      <td>26.0</td>\n",
       "      <td>70.0</td>\n",
       "      <td>1.0</td>\n",
       "      <td>1.0</td>\n",
       "      <td>0</td>\n",
       "      <td>NaN</td>\n",
       "      <td>NaN</td>\n",
       "      <td>NaN</td>\n",
       "      <td>NaN</td>\n",
       "      <td>NaN</td>\n",
       "      <td>2022-08-11</td>\n",
       "    </tr>\n",
       "    <tr>\n",
       "      <th>3</th>\n",
       "      <td>2021</td>\n",
       "      <td>1638533</td>\n",
       "      <td>41</td>\n",
       "      <td>2</td>\n",
       "      <td>16</td>\n",
       "      <td>150</td>\n",
       "      <td>60</td>\n",
       "      <td>86.0</td>\n",
       "      <td>0.0</td>\n",
       "      <td>0.0</td>\n",
       "      <td>1.0</td>\n",
       "      <td>1.0</td>\n",
       "      <td>130.0</td>\n",
       "      <td>77.0</td>\n",
       "      <td>146.0</td>\n",
       "      <td>NaN</td>\n",
       "      <td>NaN</td>\n",
       "      <td>NaN</td>\n",
       "      <td>NaN</td>\n",
       "      <td>13.0</td>\n",
       "      <td>1.0</td>\n",
       "      <td>0.0</td>\n",
       "      <td>17.0</td>\n",
       "      <td>9.0</td>\n",
       "      <td>24.0</td>\n",
       "      <td>1.0</td>\n",
       "      <td>0.0</td>\n",
       "      <td>0</td>\n",
       "      <td>NaN</td>\n",
       "      <td>NaN</td>\n",
       "      <td>NaN</td>\n",
       "      <td>NaN</td>\n",
       "      <td>NaN</td>\n",
       "      <td>2022-08-11</td>\n",
       "    </tr>\n",
       "    <tr>\n",
       "      <th>4</th>\n",
       "      <td>2021</td>\n",
       "      <td>456602</td>\n",
       "      <td>41</td>\n",
       "      <td>2</td>\n",
       "      <td>13</td>\n",
       "      <td>155</td>\n",
       "      <td>60</td>\n",
       "      <td>66.0</td>\n",
       "      <td>0.0</td>\n",
       "      <td>0.0</td>\n",
       "      <td>1.0</td>\n",
       "      <td>1.0</td>\n",
       "      <td>120.0</td>\n",
       "      <td>80.0</td>\n",
       "      <td>90.0</td>\n",
       "      <td>NaN</td>\n",
       "      <td>NaN</td>\n",
       "      <td>NaN</td>\n",
       "      <td>NaN</td>\n",
       "      <td>13.0</td>\n",
       "      <td>1.0</td>\n",
       "      <td>0.0</td>\n",
       "      <td>27.0</td>\n",
       "      <td>19.0</td>\n",
       "      <td>12.0</td>\n",
       "      <td>1.0</td>\n",
       "      <td>1.0</td>\n",
       "      <td>0</td>\n",
       "      <td>NaN</td>\n",
       "      <td>NaN</td>\n",
       "      <td>NaN</td>\n",
       "      <td>NaN</td>\n",
       "      <td>NaN</td>\n",
       "      <td>2022-08-11</td>\n",
       "    </tr>\n",
       "  </tbody>\n",
       "</table>\n",
       "</div>"
      ],
      "text/plain": [
       "   기준년도       ID  시도코드  성별코드  연령대코드(5세단위)  신장(5Cm단위)  체중(5Kg 단위)  허리둘레  시력(좌)  \\\n",
       "0  2021  2551207    41     2           12        160          60  79.0    0.0   \n",
       "1  2021  4030716    41     2           11        160          60  74.0    0.0   \n",
       "2  2021  3297511    41     2            9        150          60  72.0    0.0   \n",
       "3  2021  1638533    41     2           16        150          60  86.0    0.0   \n",
       "4  2021   456602    41     2           13        155          60  66.0    0.0   \n",
       "\n",
       "   시력(우)  청력(좌)  청력(우)  수축기혈압  이완기혈압   공복혈당  총 콜레스테롤  트리글리세라이드  HDL콜레스테롤  \\\n",
       "0    0.0    1.0    1.0  101.0   60.0   93.0      NaN       NaN       NaN   \n",
       "1    0.0    1.0    1.0  121.0   75.0  108.0      NaN       NaN       NaN   \n",
       "2    0.0    1.0    1.0  135.0   82.0  104.0      NaN       NaN       NaN   \n",
       "3    0.0    1.0    1.0  130.0   77.0  146.0      NaN       NaN       NaN   \n",
       "4    0.0    1.0    1.0  120.0   80.0   90.0      NaN       NaN       NaN   \n",
       "\n",
       "   LDL콜레스테롤   혈색소  요단백  혈청크레아티닌  (혈청지오티)AST  (혈청지오티)ALT  감마지티피  흡연상태  음주여부  \\\n",
       "0       NaN  13.0  1.0      0.0        23.0        21.0   23.0   1.0   0.0   \n",
       "1       NaN  13.0  1.0      0.0        22.0        21.0   12.0   1.0   1.0   \n",
       "2       NaN  13.0  1.0      0.0        18.0        26.0   70.0   1.0   1.0   \n",
       "3       NaN  13.0  1.0      0.0        17.0         9.0   24.0   1.0   0.0   \n",
       "4       NaN  13.0  1.0      0.0        27.0        19.0   12.0   1.0   1.0   \n",
       "\n",
       "   구강검진 수검여부  치아우식증유무  결손치 유무  치아마모증유무  사랑니 이상  치석    데이터 공개일차  \n",
       "0          0      NaN     NaN      NaN     NaN NaN  2022-08-11  \n",
       "1          0      NaN     NaN      NaN     NaN NaN  2022-08-11  \n",
       "2          0      NaN     NaN      NaN     NaN NaN  2022-08-11  \n",
       "3          0      NaN     NaN      NaN     NaN NaN  2022-08-11  \n",
       "4          0      NaN     NaN      NaN     NaN NaN  2022-08-11  "
      ]
     },
     "execution_count": 6,
     "metadata": {},
     "output_type": "execute_result"
    }
   ],
   "source": [
    "columns_name = ['기준년도', 'ID', '시도코드', '성별코드', '연령대코드(5세단위)', '신장(5Cm단위)', '체중(5Kg 단위)',\n",
    "                '허리둘레', '시력(좌)', '시력(우)', '청력(좌)', '청력(우)', '수축기혈압', '이완기혈압', '공복혈당', \n",
    "                '총 콜레스테롤', '트리글리세라이드', 'HDL콜레스테롤', 'LDL콜레스테롤', '혈색소', '요단백', '혈청크레아티닌',\n",
    "                '(혈청지오티)AST', '(혈청지오티)ALT', '감마지티피', '흡연상태', '음주여부', '구강검진 수검여부', \n",
    "                '치아우식증유무', '결손치 유무', '치아마모증유무', '사랑니 이상', '치석', '데이터 공개일차']\n",
    "\n",
    "# 컬럼명 바꾸기\n",
    "df.columns = columns_name\n",
    "df.head()"
   ]
  },
  {
   "cell_type": "markdown",
   "metadata": {},
   "source": [
    "##### 시력, 청력, 차아 관련 칼럼은 관계없다는 가정하에 열 제거"
   ]
  },
  {
   "cell_type": "code",
   "execution_count": 9,
   "metadata": {},
   "outputs": [
    {
     "data": {
      "text/html": [
       "<div>\n",
       "<style scoped>\n",
       "    .dataframe tbody tr th:only-of-type {\n",
       "        vertical-align: middle;\n",
       "    }\n",
       "\n",
       "    .dataframe tbody tr th {\n",
       "        vertical-align: top;\n",
       "    }\n",
       "\n",
       "    .dataframe thead th {\n",
       "        text-align: right;\n",
       "    }\n",
       "</style>\n",
       "<table border=\"1\" class=\"dataframe\">\n",
       "  <thead>\n",
       "    <tr style=\"text-align: right;\">\n",
       "      <th></th>\n",
       "      <th>기준년도</th>\n",
       "      <th>ID</th>\n",
       "      <th>시도코드</th>\n",
       "      <th>성별코드</th>\n",
       "      <th>연령대코드(5세단위)</th>\n",
       "      <th>신장(5Cm단위)</th>\n",
       "      <th>체중(5Kg 단위)</th>\n",
       "      <th>허리둘레</th>\n",
       "      <th>수축기혈압</th>\n",
       "      <th>이완기혈압</th>\n",
       "      <th>공복혈당</th>\n",
       "      <th>총 콜레스테롤</th>\n",
       "      <th>트리글리세라이드</th>\n",
       "      <th>HDL콜레스테롤</th>\n",
       "      <th>LDL콜레스테롤</th>\n",
       "      <th>혈색소</th>\n",
       "      <th>요단백</th>\n",
       "      <th>혈청크레아티닌</th>\n",
       "      <th>(혈청지오티)AST</th>\n",
       "      <th>(혈청지오티)ALT</th>\n",
       "      <th>감마지티피</th>\n",
       "      <th>흡연상태</th>\n",
       "      <th>음주여부</th>\n",
       "    </tr>\n",
       "  </thead>\n",
       "  <tbody>\n",
       "    <tr>\n",
       "      <th>0</th>\n",
       "      <td>2021</td>\n",
       "      <td>2551207</td>\n",
       "      <td>41</td>\n",
       "      <td>2</td>\n",
       "      <td>12</td>\n",
       "      <td>160</td>\n",
       "      <td>60</td>\n",
       "      <td>79.0</td>\n",
       "      <td>101.0</td>\n",
       "      <td>60.0</td>\n",
       "      <td>93.0</td>\n",
       "      <td>NaN</td>\n",
       "      <td>NaN</td>\n",
       "      <td>NaN</td>\n",
       "      <td>NaN</td>\n",
       "      <td>13.0</td>\n",
       "      <td>1.0</td>\n",
       "      <td>0.0</td>\n",
       "      <td>23.0</td>\n",
       "      <td>21.0</td>\n",
       "      <td>23.0</td>\n",
       "      <td>1.0</td>\n",
       "      <td>0.0</td>\n",
       "    </tr>\n",
       "    <tr>\n",
       "      <th>1</th>\n",
       "      <td>2021</td>\n",
       "      <td>4030716</td>\n",
       "      <td>41</td>\n",
       "      <td>2</td>\n",
       "      <td>11</td>\n",
       "      <td>160</td>\n",
       "      <td>60</td>\n",
       "      <td>74.0</td>\n",
       "      <td>121.0</td>\n",
       "      <td>75.0</td>\n",
       "      <td>108.0</td>\n",
       "      <td>NaN</td>\n",
       "      <td>NaN</td>\n",
       "      <td>NaN</td>\n",
       "      <td>NaN</td>\n",
       "      <td>13.0</td>\n",
       "      <td>1.0</td>\n",
       "      <td>0.0</td>\n",
       "      <td>22.0</td>\n",
       "      <td>21.0</td>\n",
       "      <td>12.0</td>\n",
       "      <td>1.0</td>\n",
       "      <td>1.0</td>\n",
       "    </tr>\n",
       "    <tr>\n",
       "      <th>2</th>\n",
       "      <td>2021</td>\n",
       "      <td>3297511</td>\n",
       "      <td>41</td>\n",
       "      <td>2</td>\n",
       "      <td>9</td>\n",
       "      <td>150</td>\n",
       "      <td>60</td>\n",
       "      <td>72.0</td>\n",
       "      <td>135.0</td>\n",
       "      <td>82.0</td>\n",
       "      <td>104.0</td>\n",
       "      <td>NaN</td>\n",
       "      <td>NaN</td>\n",
       "      <td>NaN</td>\n",
       "      <td>NaN</td>\n",
       "      <td>13.0</td>\n",
       "      <td>1.0</td>\n",
       "      <td>0.0</td>\n",
       "      <td>18.0</td>\n",
       "      <td>26.0</td>\n",
       "      <td>70.0</td>\n",
       "      <td>1.0</td>\n",
       "      <td>1.0</td>\n",
       "    </tr>\n",
       "    <tr>\n",
       "      <th>3</th>\n",
       "      <td>2021</td>\n",
       "      <td>1638533</td>\n",
       "      <td>41</td>\n",
       "      <td>2</td>\n",
       "      <td>16</td>\n",
       "      <td>150</td>\n",
       "      <td>60</td>\n",
       "      <td>86.0</td>\n",
       "      <td>130.0</td>\n",
       "      <td>77.0</td>\n",
       "      <td>146.0</td>\n",
       "      <td>NaN</td>\n",
       "      <td>NaN</td>\n",
       "      <td>NaN</td>\n",
       "      <td>NaN</td>\n",
       "      <td>13.0</td>\n",
       "      <td>1.0</td>\n",
       "      <td>0.0</td>\n",
       "      <td>17.0</td>\n",
       "      <td>9.0</td>\n",
       "      <td>24.0</td>\n",
       "      <td>1.0</td>\n",
       "      <td>0.0</td>\n",
       "    </tr>\n",
       "    <tr>\n",
       "      <th>4</th>\n",
       "      <td>2021</td>\n",
       "      <td>456602</td>\n",
       "      <td>41</td>\n",
       "      <td>2</td>\n",
       "      <td>13</td>\n",
       "      <td>155</td>\n",
       "      <td>60</td>\n",
       "      <td>66.0</td>\n",
       "      <td>120.0</td>\n",
       "      <td>80.0</td>\n",
       "      <td>90.0</td>\n",
       "      <td>NaN</td>\n",
       "      <td>NaN</td>\n",
       "      <td>NaN</td>\n",
       "      <td>NaN</td>\n",
       "      <td>13.0</td>\n",
       "      <td>1.0</td>\n",
       "      <td>0.0</td>\n",
       "      <td>27.0</td>\n",
       "      <td>19.0</td>\n",
       "      <td>12.0</td>\n",
       "      <td>1.0</td>\n",
       "      <td>1.0</td>\n",
       "    </tr>\n",
       "  </tbody>\n",
       "</table>\n",
       "</div>"
      ],
      "text/plain": [
       "   기준년도       ID  시도코드  성별코드  연령대코드(5세단위)  신장(5Cm단위)  체중(5Kg 단위)  허리둘레  수축기혈압  \\\n",
       "0  2021  2551207    41     2           12        160          60  79.0  101.0   \n",
       "1  2021  4030716    41     2           11        160          60  74.0  121.0   \n",
       "2  2021  3297511    41     2            9        150          60  72.0  135.0   \n",
       "3  2021  1638533    41     2           16        150          60  86.0  130.0   \n",
       "4  2021   456602    41     2           13        155          60  66.0  120.0   \n",
       "\n",
       "   이완기혈압   공복혈당  총 콜레스테롤  트리글리세라이드  HDL콜레스테롤  LDL콜레스테롤   혈색소  요단백  혈청크레아티닌  \\\n",
       "0   60.0   93.0      NaN       NaN       NaN       NaN  13.0  1.0      0.0   \n",
       "1   75.0  108.0      NaN       NaN       NaN       NaN  13.0  1.0      0.0   \n",
       "2   82.0  104.0      NaN       NaN       NaN       NaN  13.0  1.0      0.0   \n",
       "3   77.0  146.0      NaN       NaN       NaN       NaN  13.0  1.0      0.0   \n",
       "4   80.0   90.0      NaN       NaN       NaN       NaN  13.0  1.0      0.0   \n",
       "\n",
       "   (혈청지오티)AST  (혈청지오티)ALT  감마지티피  흡연상태  음주여부  \n",
       "0        23.0        21.0   23.0   1.0   0.0  \n",
       "1        22.0        21.0   12.0   1.0   1.0  \n",
       "2        18.0        26.0   70.0   1.0   1.0  \n",
       "3        17.0         9.0   24.0   1.0   0.0  \n",
       "4        27.0        19.0   12.0   1.0   1.0  "
      ]
     },
     "execution_count": 9,
     "metadata": {},
     "output_type": "execute_result"
    }
   ],
   "source": [
    "irrelevant_columns = ['시력(좌)', '시력(우)', '청력(좌)', '청력(우)', '구강검진 수검여부', '치아우식증유무', '결손치 유무', '치아마모증유무', '사랑니 이상', '치석', '데이터 공개일차']\n",
    "\n",
    "df.drop(columns=irrelevant_columns, axis=1, inplace=True)\n",
    "df.head()"
   ]
  },
  {
   "cell_type": "markdown",
   "metadata": {},
   "source": [
    "##### 각 칼럼 확인해서 삭제 여부 판단하기"
   ]
  },
  {
   "cell_type": "code",
   "execution_count": 10,
   "metadata": {},
   "outputs": [
    {
     "name": "stdout",
     "output_type": "stream",
     "text": [
      "기준년도\n",
      "2021    1000000\n",
      "Name: 기준년도, dtype: int64\n",
      "-----------------------------------------\n",
      "ID\n",
      "2551207    1\n",
      "3364050    1\n",
      "3404536    1\n",
      "318636     1\n",
      "385109     1\n",
      "          ..\n",
      "4592634    1\n",
      "170099     1\n",
      "2147393    1\n",
      "1052593    1\n",
      "4171104    1\n",
      "Name: ID, Length: 1000000, dtype: int64\n",
      "-----------------------------------------\n",
      "시도코드\n",
      "41    254167\n",
      "11    169859\n",
      "48     68381\n",
      "26     66527\n",
      "28     58832\n",
      "47     53888\n",
      "27     47592\n",
      "44     41825\n",
      "46     38431\n",
      "45     37056\n",
      "43     33171\n",
      "42     30817\n",
      "30     28769\n",
      "29     27902\n",
      "31     24180\n",
      "49     11889\n",
      "36      6714\n",
      "Name: 시도코드, dtype: int64\n",
      "-----------------------------------------\n",
      "성별코드\n",
      "1    500129\n",
      "2    499871\n",
      "Name: 성별코드, dtype: int64\n",
      "-----------------------------------------\n",
      "연령대코드(5세단위)\n",
      "11    175607\n",
      "9     162133\n",
      "13    156036\n",
      "10    140254\n",
      "12    134794\n",
      "14     90201\n",
      "15     73948\n",
      "16     34120\n",
      "17     25674\n",
      "18      7233\n",
      "Name: 연령대코드(5세단위), dtype: int64\n",
      "-----------------------------------------\n",
      "신장(5Cm단위)\n",
      "160    187047\n",
      "155    182782\n",
      "165    176611\n",
      "170    152139\n",
      "150    127050\n",
      "175     81223\n",
      "145     48579\n",
      "180     25527\n",
      "140     11729\n",
      "185      4380\n",
      "135      2059\n",
      "190       438\n",
      "130       392\n",
      "195        44\n",
      "Name: 신장(5Cm단위), dtype: int64\n",
      "-----------------------------------------\n",
      "체중(5Kg 단위)\n",
      "60     156838\n",
      "55     154742\n",
      "65     143901\n",
      "50     124679\n",
      "70     122741\n",
      "75      89461\n",
      "45      61219\n",
      "80      57063\n",
      "85      32557\n",
      "90      17375\n",
      "40      17311\n",
      "95       9075\n",
      "100      4612\n",
      "35       3138\n",
      "105      2340\n",
      "110      1161\n",
      "115       618\n",
      "30        530\n",
      "120       319\n",
      "125       170\n",
      "130       104\n",
      "135        46\n",
      "Name: 체중(5Kg 단위), dtype: int64\n",
      "-----------------------------------------\n",
      "허리둘레\n",
      "80.0     44703\n",
      "84.0     42262\n",
      "82.0     40942\n",
      "86.0     39900\n",
      "83.0     39894\n",
      "         ...  \n",
      "139.0        1\n",
      "160.0        1\n",
      "32.0         1\n",
      "450.0        1\n",
      "146.0        1\n",
      "Name: 허리둘레, Length: 102, dtype: int64\n",
      "-----------------------------------------\n",
      "수축기혈압\n",
      "130.0    59443\n",
      "120.0    59376\n",
      "110.0    46817\n",
      "118.0    35933\n",
      "119.0    26700\n",
      "         ...  \n",
      "65.0         1\n",
      "222.0        1\n",
      "224.0        1\n",
      "229.0        1\n",
      "227.0        1\n",
      "Name: 수축기혈압, Length: 168, dtype: int64\n",
      "-----------------------------------------\n",
      "이완기혈압\n",
      "80.0     98130\n",
      "70.0     81248\n",
      "78.0     43992\n",
      "76.0     34493\n",
      "75.0     34216\n",
      "         ...  \n",
      "154.0        1\n",
      "170.0        1\n",
      "30.0         1\n",
      "32.0         1\n",
      "167.0        1\n",
      "Name: 이완기혈압, Length: 128, dtype: int64\n",
      "-----------------------------------------\n",
      "공복혈당\n",
      "96.0     33323\n",
      "95.0     33249\n",
      "94.0     32950\n",
      "99.0     32785\n",
      "98.0     32741\n",
      "         ...  \n",
      "507.0        1\n",
      "684.0        1\n",
      "586.0        1\n",
      "774.0        1\n",
      "541.0        1\n",
      "Name: 공복혈당, Length: 493, dtype: int64\n",
      "-----------------------------------------\n",
      "총 콜레스테롤\n",
      "190.0    4187\n",
      "199.0    4180\n",
      "197.0    4179\n",
      "196.0    4127\n",
      "200.0    4126\n",
      "         ... \n",
      "518.0       1\n",
      "476.0       1\n",
      "52.0        1\n",
      "381.0       1\n",
      "633.0       1\n",
      "Name: 총 콜레스테롤, Length: 444, dtype: int64\n",
      "-----------------------------------------\n",
      "트리글리세라이드\n",
      "78.0      3660\n",
      "73.0      3641\n",
      "80.0      3580\n",
      "76.0      3569\n",
      "79.0      3568\n",
      "          ... \n",
      "1477.0       1\n",
      "1239.0       1\n",
      "889.0        1\n",
      "941.0        1\n",
      "1900.0       1\n",
      "Name: 트리글리세라이드, Length: 1338, dtype: int64\n",
      "-----------------------------------------\n",
      "HDL콜레스테롤\n",
      "50.0     12336\n",
      "52.0     12307\n",
      "51.0     12227\n",
      "49.0     12147\n",
      "54.0     12144\n",
      "         ...  \n",
      "634.0        1\n",
      "233.0        1\n",
      "734.0        1\n",
      "471.0        1\n",
      "554.0        1\n",
      "Name: HDL콜레스테롤, Length: 258, dtype: int64\n",
      "-----------------------------------------\n",
      "LDL콜레스테롤\n",
      "118.0     4487\n",
      "114.0     4443\n",
      "121.0     4402\n",
      "111.0     4395\n",
      "120.0     4365\n",
      "          ... \n",
      "1040.0       1\n",
      "383.0        1\n",
      "306.0        1\n",
      "347.0        1\n",
      "335.0        1\n",
      "Name: LDL콜레스테롤, Length: 370, dtype: int64\n",
      "-----------------------------------------\n",
      "혈색소\n",
      "13.0    241468\n",
      "14.0    235546\n",
      "15.0    190199\n",
      "12.0    139233\n",
      "16.0     93959\n",
      "11.0     40372\n",
      "17.0     24108\n",
      "10.0     13367\n",
      "9.0       5885\n",
      "18.0      3741\n",
      "8.0       2593\n",
      "7.0       1043\n",
      "19.0       462\n",
      "6.0        363\n",
      "5.0        130\n",
      "20.0        60\n",
      "4.0         28\n",
      "21.0        13\n",
      "3.0          6\n",
      "1.0          4\n",
      "22.0         3\n",
      "24.0         1\n",
      "23.0         1\n",
      "2.0          1\n",
      "Name: 혈색소, dtype: int64\n",
      "-----------------------------------------\n",
      "요단백\n",
      "1.0    913935\n",
      "2.0     40032\n",
      "3.0     22844\n",
      "4.0      7594\n",
      "5.0      2408\n",
      "6.0       626\n",
      "Name: 요단백, dtype: int64\n",
      "-----------------------------------------\n",
      "혈청크레아티닌\n",
      "0.0     735994\n",
      "1.0     253438\n",
      "2.0       1524\n",
      "3.0        369\n",
      "6.0        185\n",
      "7.0        182\n",
      "5.0        182\n",
      "4.0        182\n",
      "8.0        162\n",
      "9.0        106\n",
      "10.0        93\n",
      "11.0        69\n",
      "12.0        35\n",
      "13.0        29\n",
      "14.0        14\n",
      "15.0         6\n",
      "18.0         5\n",
      "16.0         4\n",
      "17.0         4\n",
      "21.0         2\n",
      "30.0         1\n",
      "22.0         1\n",
      "83.0         1\n",
      "19.0         1\n",
      "39.0         1\n",
      "23.0         1\n",
      "93.0         1\n",
      "44.0         1\n",
      "Name: 혈청크레아티닌, dtype: int64\n",
      "-----------------------------------------\n",
      "(혈청지오티)AST\n",
      "21.0      60612\n",
      "22.0      60460\n",
      "23.0      58326\n",
      "20.0      57680\n",
      "24.0      55378\n",
      "          ...  \n",
      "807.0         1\n",
      "492.0         1\n",
      "440.0         1\n",
      "1201.0        1\n",
      "421.0         1\n",
      "Name: (혈청지오티)AST, Length: 564, dtype: int64\n",
      "-----------------------------------------\n",
      "(혈청지오티)ALT\n",
      "16.0     46746\n",
      "17.0     46271\n",
      "18.0     45599\n",
      "15.0     45083\n",
      "19.0     43613\n",
      "         ...  \n",
      "570.0        1\n",
      "720.0        1\n",
      "506.0        1\n",
      "389.0        1\n",
      "714.0        1\n",
      "Name: (혈청지오티)ALT, Length: 587, dtype: int64\n",
      "-----------------------------------------\n",
      "감마지티피\n",
      "15.0      40509\n",
      "16.0      40092\n",
      "14.0      39875\n",
      "17.0      38700\n",
      "13.0      37628\n",
      "          ...  \n",
      "2580.0        1\n",
      "979.0         1\n",
      "989.0         1\n",
      "649.0         1\n",
      "1568.0        1\n",
      "Name: 감마지티피, Length: 1242, dtype: int64\n",
      "-----------------------------------------\n",
      "흡연상태\n",
      "1.0    634160\n",
      "2.0    182981\n",
      "3.0    182489\n",
      "Name: 흡연상태, dtype: int64\n",
      "-----------------------------------------\n",
      "음주여부\n",
      "1.0    576965\n",
      "0.0    422867\n",
      "Name: 음주여부, dtype: int64\n",
      "-----------------------------------------\n"
     ]
    }
   ],
   "source": [
    "for name in df.columns:\n",
    "    print(name)\n",
    "    print(df[f'{name}'].value_counts())\n",
    "    print('-----------------------------------------')"
   ]
  },
  {
   "cell_type": "markdown",
   "metadata": {},
   "source": [
    "##### 기준년도는 모든 행이 동일, ID는 모두 1개씩 부여되어 있음 --> 삭제하기\n",
    "\n",
    "##### 시도코드, 성별코드는 가설을 확인하려고 할 때, 관련없음 --> 삭제하기"
   ]
  },
  {
   "cell_type": "code",
   "execution_count": 11,
   "metadata": {},
   "outputs": [
    {
     "data": {
      "text/html": [
       "<div>\n",
       "<style scoped>\n",
       "    .dataframe tbody tr th:only-of-type {\n",
       "        vertical-align: middle;\n",
       "    }\n",
       "\n",
       "    .dataframe tbody tr th {\n",
       "        vertical-align: top;\n",
       "    }\n",
       "\n",
       "    .dataframe thead th {\n",
       "        text-align: right;\n",
       "    }\n",
       "</style>\n",
       "<table border=\"1\" class=\"dataframe\">\n",
       "  <thead>\n",
       "    <tr style=\"text-align: right;\">\n",
       "      <th></th>\n",
       "      <th>연령대코드(5세단위)</th>\n",
       "      <th>신장(5Cm단위)</th>\n",
       "      <th>체중(5Kg 단위)</th>\n",
       "      <th>허리둘레</th>\n",
       "      <th>수축기혈압</th>\n",
       "      <th>이완기혈압</th>\n",
       "      <th>공복혈당</th>\n",
       "      <th>총 콜레스테롤</th>\n",
       "      <th>트리글리세라이드</th>\n",
       "      <th>HDL콜레스테롤</th>\n",
       "      <th>LDL콜레스테롤</th>\n",
       "      <th>혈색소</th>\n",
       "      <th>요단백</th>\n",
       "      <th>혈청크레아티닌</th>\n",
       "      <th>(혈청지오티)AST</th>\n",
       "      <th>(혈청지오티)ALT</th>\n",
       "      <th>감마지티피</th>\n",
       "      <th>흡연상태</th>\n",
       "      <th>음주여부</th>\n",
       "    </tr>\n",
       "  </thead>\n",
       "  <tbody>\n",
       "    <tr>\n",
       "      <th>0</th>\n",
       "      <td>12</td>\n",
       "      <td>160</td>\n",
       "      <td>60</td>\n",
       "      <td>79.0</td>\n",
       "      <td>101.0</td>\n",
       "      <td>60.0</td>\n",
       "      <td>93.0</td>\n",
       "      <td>NaN</td>\n",
       "      <td>NaN</td>\n",
       "      <td>NaN</td>\n",
       "      <td>NaN</td>\n",
       "      <td>13.0</td>\n",
       "      <td>1.0</td>\n",
       "      <td>0.0</td>\n",
       "      <td>23.0</td>\n",
       "      <td>21.0</td>\n",
       "      <td>23.0</td>\n",
       "      <td>1.0</td>\n",
       "      <td>0.0</td>\n",
       "    </tr>\n",
       "    <tr>\n",
       "      <th>1</th>\n",
       "      <td>11</td>\n",
       "      <td>160</td>\n",
       "      <td>60</td>\n",
       "      <td>74.0</td>\n",
       "      <td>121.0</td>\n",
       "      <td>75.0</td>\n",
       "      <td>108.0</td>\n",
       "      <td>NaN</td>\n",
       "      <td>NaN</td>\n",
       "      <td>NaN</td>\n",
       "      <td>NaN</td>\n",
       "      <td>13.0</td>\n",
       "      <td>1.0</td>\n",
       "      <td>0.0</td>\n",
       "      <td>22.0</td>\n",
       "      <td>21.0</td>\n",
       "      <td>12.0</td>\n",
       "      <td>1.0</td>\n",
       "      <td>1.0</td>\n",
       "    </tr>\n",
       "    <tr>\n",
       "      <th>2</th>\n",
       "      <td>9</td>\n",
       "      <td>150</td>\n",
       "      <td>60</td>\n",
       "      <td>72.0</td>\n",
       "      <td>135.0</td>\n",
       "      <td>82.0</td>\n",
       "      <td>104.0</td>\n",
       "      <td>NaN</td>\n",
       "      <td>NaN</td>\n",
       "      <td>NaN</td>\n",
       "      <td>NaN</td>\n",
       "      <td>13.0</td>\n",
       "      <td>1.0</td>\n",
       "      <td>0.0</td>\n",
       "      <td>18.0</td>\n",
       "      <td>26.0</td>\n",
       "      <td>70.0</td>\n",
       "      <td>1.0</td>\n",
       "      <td>1.0</td>\n",
       "    </tr>\n",
       "    <tr>\n",
       "      <th>3</th>\n",
       "      <td>16</td>\n",
       "      <td>150</td>\n",
       "      <td>60</td>\n",
       "      <td>86.0</td>\n",
       "      <td>130.0</td>\n",
       "      <td>77.0</td>\n",
       "      <td>146.0</td>\n",
       "      <td>NaN</td>\n",
       "      <td>NaN</td>\n",
       "      <td>NaN</td>\n",
       "      <td>NaN</td>\n",
       "      <td>13.0</td>\n",
       "      <td>1.0</td>\n",
       "      <td>0.0</td>\n",
       "      <td>17.0</td>\n",
       "      <td>9.0</td>\n",
       "      <td>24.0</td>\n",
       "      <td>1.0</td>\n",
       "      <td>0.0</td>\n",
       "    </tr>\n",
       "    <tr>\n",
       "      <th>4</th>\n",
       "      <td>13</td>\n",
       "      <td>155</td>\n",
       "      <td>60</td>\n",
       "      <td>66.0</td>\n",
       "      <td>120.0</td>\n",
       "      <td>80.0</td>\n",
       "      <td>90.0</td>\n",
       "      <td>NaN</td>\n",
       "      <td>NaN</td>\n",
       "      <td>NaN</td>\n",
       "      <td>NaN</td>\n",
       "      <td>13.0</td>\n",
       "      <td>1.0</td>\n",
       "      <td>0.0</td>\n",
       "      <td>27.0</td>\n",
       "      <td>19.0</td>\n",
       "      <td>12.0</td>\n",
       "      <td>1.0</td>\n",
       "      <td>1.0</td>\n",
       "    </tr>\n",
       "  </tbody>\n",
       "</table>\n",
       "</div>"
      ],
      "text/plain": [
       "   연령대코드(5세단위)  신장(5Cm단위)  체중(5Kg 단위)  허리둘레  수축기혈압  이완기혈압   공복혈당  총 콜레스테롤  \\\n",
       "0           12        160          60  79.0  101.0   60.0   93.0      NaN   \n",
       "1           11        160          60  74.0  121.0   75.0  108.0      NaN   \n",
       "2            9        150          60  72.0  135.0   82.0  104.0      NaN   \n",
       "3           16        150          60  86.0  130.0   77.0  146.0      NaN   \n",
       "4           13        155          60  66.0  120.0   80.0   90.0      NaN   \n",
       "\n",
       "   트리글리세라이드  HDL콜레스테롤  LDL콜레스테롤   혈색소  요단백  혈청크레아티닌  (혈청지오티)AST  (혈청지오티)ALT  \\\n",
       "0       NaN       NaN       NaN  13.0  1.0      0.0        23.0        21.0   \n",
       "1       NaN       NaN       NaN  13.0  1.0      0.0        22.0        21.0   \n",
       "2       NaN       NaN       NaN  13.0  1.0      0.0        18.0        26.0   \n",
       "3       NaN       NaN       NaN  13.0  1.0      0.0        17.0         9.0   \n",
       "4       NaN       NaN       NaN  13.0  1.0      0.0        27.0        19.0   \n",
       "\n",
       "   감마지티피  흡연상태  음주여부  \n",
       "0   23.0   1.0   0.0  \n",
       "1   12.0   1.0   1.0  \n",
       "2   70.0   1.0   1.0  \n",
       "3   24.0   1.0   0.0  \n",
       "4   12.0   1.0   1.0  "
      ]
     },
     "execution_count": 11,
     "metadata": {},
     "output_type": "execute_result"
    }
   ],
   "source": [
    "df.drop(columns=['ID', '기준년도', '시도코드' ,'성별코드'], axis=1, inplace=True)\n",
    "df.head()"
   ]
  },
  {
   "cell_type": "markdown",
   "metadata": {},
   "source": [
    "##### 콜레스테롤 데이터가 null인 행 찾기 --> test변수 / 그 외 train변수에 저장"
   ]
  },
  {
   "cell_type": "code",
   "execution_count": 12,
   "metadata": {},
   "outputs": [],
   "source": [
    "test = df[df['LDL콜레스테롤'].isnull()]\n",
    "train = df.dropna(axis=0)\n",
    "\n",
    "# 정답 데이터\n",
    "y = train['LDL콜레스테롤']\n",
    "\n",
    "# 학습 데이터\n",
    "x = train.drop(columns='LDL콜레스테롤', axis=1)"
   ]
  },
  {
   "cell_type": "markdown",
   "metadata": {},
   "source": [
    "### 2-2._데이터 분리"
   ]
  },
  {
   "cell_type": "markdown",
   "metadata": {},
   "source": [
    "##### train, test 데이터 나누기(비율: 0.33)"
   ]
  },
  {
   "cell_type": "code",
   "execution_count": 13,
   "metadata": {},
   "outputs": [
    {
     "name": "stdout",
     "output_type": "stream",
     "text": [
      "X_train.shape :  (277857, 18)\n",
      "X_test.shape :  (136855, 18)\n",
      "y_train.shape :  (277857,)\n",
      "y_test.shape :  (136855,)\n"
     ]
    }
   ],
   "source": [
    "from sklearn.model_selection import train_test_split\n",
    "\n",
    "X_train, X_test, y_train, y_test = train_test_split( x, y, test_size=0.33, random_state=42)\n",
    "\n",
    "print('X_train.shape : ', X_train.shape)\n",
    "print('X_test.shape : ', X_test.shape)\n",
    "\n",
    "print('y_train.shape : ', y_train.shape)\n",
    "print('y_test.shape : ', y_test.shape)\n"
   ]
  },
  {
   "cell_type": "markdown",
   "metadata": {},
   "source": [
    "### 2-3._주요 특징 **삭제 전** 모델 학습 및 검증(RMSE)\n",
    "- LDL콜레스테롤 - 가중치가 큰 '총 콜레스테롤', 'HDL콜레스테롤' ,'음주여부'의 영향을 많이 받음"
   ]
  },
  {
   "cell_type": "code",
   "execution_count": 14,
   "metadata": {},
   "outputs": [
    {
     "name": "stdout",
     "output_type": "stream",
     "text": [
      "기울기 및 절편 확인\n",
      "coef :  [ 0.09698167  0.01683729  0.0430464   0.05732807 -0.01272057 -0.00871154\n",
      " -0.00409875  0.9672277  -0.17251271 -0.69699204  0.11194564 -0.0036176\n",
      "  0.32866777 -0.00567028  0.00517389 -0.0043673   0.2956291  -0.80269557]\n",
      "intercept :  -24.202044429604967\n",
      "\n",
      "전체에 대한 가중치 확인\n",
      "연령대코드(5세단위) = 0.09698167355471758\n",
      "신장(5Cm단위) = 0.01683729135011738\n",
      "체중(5Kg 단위) = 0.043046404457219696\n",
      "허리둘레 = 0.05732806965539219\n",
      "수축기혈압 = -0.012720569191572419\n",
      "이완기혈압 = -0.008711542912445712\n",
      "공복혈당 = -0.004098750915120153\n",
      "총 콜레스테롤 = 0.9672276997269704\n",
      "트리글리세라이드 = -0.1725127065507507\n",
      "HDL콜레스테롤 = -0.6969920403322464\n",
      "혈색소 = 0.11194564466494886\n",
      "요단백 = -0.0036176040577047043\n",
      "혈청크레아티닌 = 0.3286677672773083\n",
      "(혈청지오티)AST = -0.005670284707430447\n",
      "(혈청지오티)ALT = 0.005173888945753822\n",
      "감마지티피 = -0.004367303176598375\n",
      "흡연상태 = 0.29562910205074866\n",
      "음주여부 = -0.8026955740925813\n"
     ]
    }
   ],
   "source": [
    "LR = LinearRegression()\n",
    "\n",
    "# 선형회귀 모델 학습\n",
    "LR.fit(X=X_train, y=y_train)\n",
    "\n",
    "# 예측하기\n",
    "y_pred = LR.predict(X_test)\n",
    "\n",
    "# 기울기, 절편 확인\n",
    "print('기울기 및 절편 확인')\n",
    "print('coef : ', LR.coef_)\n",
    "print('intercept : ', LR.intercept_)\n",
    "\n",
    "\n",
    "# 가중치 확인하기\n",
    "print('\\n전체에 대한 가중치 확인')\n",
    "for index, columns in enumerate(X_train.columns):\n",
    "    print(f'{columns} = {LR.coef_[index]}')\n"
   ]
  },
  {
   "cell_type": "code",
   "execution_count": 15,
   "metadata": {},
   "outputs": [
    {
     "name": "stdout",
     "output_type": "stream",
     "text": [
      "주요 feature 삭제 전 rmse = 7.46\n"
     ]
    }
   ],
   "source": [
    "# 수치 데이터 검증 --> MSE, MAE, RMSE, R2\n",
    "# RMSE 사용하기\n",
    "from sklearn.metrics import mean_squared_error\n",
    "\n",
    "rmse = mean_squared_error(y_test, y_pred, squared=False)\n",
    "\n",
    "print(f'주요 feature 삭제 전 rmse = {round(rmse,3)}')"
   ]
  },
  {
   "cell_type": "markdown",
   "metadata": {},
   "source": [
    "### 2-4._주요 특징 **삭제 후** 모델 학습 및 검증(RMSE)"
   ]
  },
  {
   "cell_type": "markdown",
   "metadata": {},
   "source": [
    "##### 주요 feature 삭제하기"
   ]
  },
  {
   "cell_type": "code",
   "execution_count": 16,
   "metadata": {},
   "outputs": [],
   "source": [
    "\n",
    "x = x.drop(['총 콜레스테롤', 'HDL콜레스테롤' ,'음주여부'], axis=1)"
   ]
  },
  {
   "cell_type": "markdown",
   "metadata": {},
   "source": [
    "##### 주요 feature 삭제 후 재학습"
   ]
  },
  {
   "cell_type": "code",
   "execution_count": 17,
   "metadata": {},
   "outputs": [
    {
     "name": "stdout",
     "output_type": "stream",
     "text": [
      "기울기 및 절편 확인\n",
      "coef :  [ 0.09698167  0.01683729  0.0430464   0.05732807 -0.01272057 -0.00871154\n",
      " -0.00409875  0.9672277  -0.17251271 -0.69699204  0.11194564 -0.0036176\n",
      "  0.32866777 -0.00567028  0.00517389 -0.0043673   0.2956291  -0.80269557]\n",
      "intercept :  -24.202044429604967\n",
      "\n",
      "전체에 대한 가중치 확인\n",
      "연령대코드(5세단위) = 0.09698167355471758\n",
      "신장(5Cm단위) = 0.01683729135011738\n",
      "체중(5Kg 단위) = 0.043046404457219696\n",
      "허리둘레 = 0.05732806965539219\n",
      "수축기혈압 = -0.012720569191572419\n",
      "이완기혈압 = -0.008711542912445712\n",
      "공복혈당 = -0.004098750915120153\n",
      "트리글리세라이드 = 0.9672276997269704\n",
      "혈색소 = -0.1725127065507507\n",
      "요단백 = -0.6969920403322464\n",
      "혈청크레아티닌 = 0.11194564466494886\n",
      "(혈청지오티)AST = -0.0036176040577047043\n",
      "(혈청지오티)ALT = 0.3286677672773083\n",
      "감마지티피 = -0.005670284707430447\n",
      "흡연상태 = 0.005173888945753822\n"
     ]
    }
   ],
   "source": [
    "# random_state, 비율 그대로 데이터 나누기 \n",
    "X_train, X_test, y_train, y_test = train_test_split( x, y, test_size=0.33, random_state=42)\n",
    "\n",
    "#선형회귀 모델 재학습\n",
    "LR2 = LinearRegression()\n",
    "LR2.fit(X_train, y_train)\n",
    "\n",
    "# 예측하기\n",
    "y_pred = LR2.predict(X_test)\n",
    "\n",
    "# 기울기, 절편 확인\n",
    "print('기울기 및 절편 확인')\n",
    "print('coef : ', LR.coef_)\n",
    "print('intercept : ', LR.intercept_)\n",
    "\n",
    "# 가중치 확인하기\n",
    "print('\\n전체에 대한 가중치 확인')\n",
    "for index, columns in enumerate(X_train.columns):\n",
    "    print(f'{columns} = {LR.coef_[index]}')"
   ]
  },
  {
   "cell_type": "code",
   "execution_count": 18,
   "metadata": {},
   "outputs": [
    {
     "name": "stdout",
     "output_type": "stream",
     "text": [
      "주요 feature 삭제 후 rmse = 38.246\n"
     ]
    }
   ],
   "source": [
    "# 수치 데이터 검증 --> MSE, MAE, RMSE, R2\n",
    "# RMSE 사용하기\n",
    "from sklearn.metrics import mean_squared_error\n",
    "\n",
    "rmse2 = mean_squared_error(y_test, y_pred, squared=False)\n",
    "\n",
    "print(f'주요 feature 삭제 후 rmse = {round(rmse2,3)}')"
   ]
  },
  {
   "cell_type": "markdown",
   "metadata": {},
   "source": [
    "### 2-5._결과 비교\n",
    "주요 feature : '총 콜레스테롤', 'HDL콜레스테롤' ,'음주여부'\n",
    "\n",
    "삭제 전 RMSE = 7.46\n",
    "삭제 후 RMSE = 38.246\n",
    "\n",
    "---> 오차가 5배 이상 커지는 것을 확인할 수 있음  \n",
    "---> 선형성이 있는 데이터이므로 선형회귀 모델에 대해 어떤 Feature가 얼마나 영향이 있었는지 확인할 수 있었음"
   ]
  },
  {
   "cell_type": "markdown",
   "metadata": {},
   "source": [
    "---"
   ]
  },
  {
   "cell_type": "markdown",
   "metadata": {},
   "source": [
    "# 3.로지스틱회귀(Logistic Regression)\n",
    "- Sigmoid 함수를 사용하여 데이터를 설명하는 최적의 선으로 예측하는 알고리즘\n",
    "- 분류 모델이다."
   ]
  },
  {
   "cell_type": "code",
   "execution_count": 19,
   "metadata": {},
   "outputs": [
    {
     "data": {
      "image/png": "[encoded data removed]",
      "text/plain": [
       "<Figure size 640x480 with 1 Axes>"
      ]
     },
     "metadata": {},
     "output_type": "display_data"
    }
   ],
   "source": [
    "# 시그모이드 함수 작성하기\n",
    "def sigmoid(x):\n",
    "    return 1/(1 + np.exp(-x))\n",
    "\n",
    "# 그래프 그리기\n",
    "# 데이터 생성\n",
    "x = range(-6,7)  \n",
    "y = sigmoid(np.array(x))\n",
    "\n",
    "plt.plot(x, y, color = 'blue' , linewidth = 0.5)\n",
    "plt.rcParams['axes.grid'] = True\n",
    "plt.axvline(x=0, color = 'black', linewidth=3)\n",
    "\n",
    "plt.yticks([0, 0.5, 1])\n",
    "plt.show()\n",
    "\n",
    "# ----> 0 ~ 1 사이의 값으로 변환"
   ]
  },
  {
   "cell_type": "markdown",
   "metadata": {},
   "source": [
    "# 4.로지스틱회귀 실습하기\n",
    "- 목표 : 선형회귀(회귀 알고리즘)와 로지스틱회귀(분류 알고리즘) 비교하기\n",
    "\n",
    "- 하이퍼파라미터\n",
    "    - max_iter : 알고리즘의 수렴을 위한 반복의 최대 횟수 지정\n",
    "    - penalty : 규제 종류 선택(l1, l2, elasticnet, none)\n",
    "    - C : 규제의 강도를 조절하는 파라미터로 값이 클수록 규제가 약해지고 값이 작을수록 규제가 강해짐\n",
    "\n",
    "- 학습 후 가지는 속성\n",
    "    - coef_ : 학습된 모형 특성의 가중치 추정값\n",
    "    - intercept_ : 학습된 모델의 절편 추정값"
   ]
  },
  {
   "cell_type": "markdown",
   "metadata": {},
   "source": [
    "### 4-1. 데이터 구성하기\n",
    "- 9이하 0, 10이상 1"
   ]
  },
  {
   "cell_type": "code",
   "execution_count": 20,
   "metadata": {},
   "outputs": [
    {
     "name": "stdout",
     "output_type": "stream",
     "text": [
      "(15, 1) (15,)\n",
      "(5, 1) (5,)\n"
     ]
    }
   ],
   "source": [
    "x_train = [a for a in range(3,18)]\n",
    "x_train = np.array(x_train).reshape(-1,1)\n",
    "y_train = np.array([0,0,0,0,0,0,0,1,1,1,1,1,1,1,1])\n",
    "\n",
    "print(x_train.shape, y_train.shape)\n",
    "\n",
    "\n",
    "x_test = np.array([0,1,2,18,19]).reshape(-1,1)\n",
    "y_test = np.array([0,0,0,1,1])\n",
    "\n",
    "print(x_test.shape, y_test.shape)"
   ]
  },
  {
   "cell_type": "markdown",
   "metadata": {},
   "source": [
    "### 4-2. 로지스틱회귀 학습"
   ]
  },
  {
   "cell_type": "code",
   "execution_count": 21,
   "metadata": {},
   "outputs": [
    {
     "name": "stdout",
     "output_type": "stream",
     "text": [
      "기울기 및 절편 확인\n",
      "coef :  [[1.19383367]]\n",
      "intercept :  [-11.34126808]\n"
     ]
    }
   ],
   "source": [
    "from sklearn.linear_model import LogisticRegression\n",
    "\n",
    "# 학습\n",
    "logi_reg = LogisticRegression()\n",
    "logi_reg.fit(x_train, y_train)\n",
    "y_pred_logi = logi_reg.predict(x_test)\n",
    "\n",
    "# 기울기, 절편 확인\n",
    "print('기울기 및 절편 확인')\n",
    "print('coef : ', logi_reg.coef_)\n",
    "print('intercept : ', logi_reg.intercept_)"
   ]
  },
  {
   "cell_type": "markdown",
   "metadata": {},
   "source": [
    "### 4-3.선형회귀 학습"
   ]
  },
  {
   "cell_type": "code",
   "execution_count": 22,
   "metadata": {},
   "outputs": [
    {
     "name": "stdout",
     "output_type": "stream",
     "text": [
      "기울기 및 절편 확인\n",
      "coef :  [0.1]\n",
      "intercept :  -0.4666666666666669\n"
     ]
    }
   ],
   "source": [
    "LR3 = LinearRegression()\n",
    "LR3.fit(x_train, y_train)\n",
    "y_pred_LR3 = LR3.predict(x_test)\n",
    "\n",
    "# 기울기, 절편 확인\n",
    "print('기울기 및 절편 확인')\n",
    "print('coef : ', LR3.coef_)\n",
    "print('intercept : ', LR3.intercept_)\n"
   ]
  },
  {
   "cell_type": "markdown",
   "metadata": {},
   "source": [
    "### 4-4.그래프로 비교하기"
   ]
  },
  {
   "cell_type": "code",
   "execution_count": 23,
   "metadata": {},
   "outputs": [
    {
     "data": {
      "image/png": "[encoded data removed]",
      "text/plain": [
       "<Figure size 640x480 with 1 Axes>"
      ]
     },
     "metadata": {},
     "output_type": "display_data"
    }
   ],
   "source": [
    "plt.scatter(x_train, y_train, color='red')\n",
    "\n",
    "# 로지스틱\n",
    "plt.plot(x_train, sigmoid(logi_reg.decision_function(x_train)), color='blue')\n",
    "\n",
    "# 선형\n",
    "plt.plot(x_train, LR3.predict(x_train), color='green')\n",
    "\n",
    "plt.rcParams['axes.grid'] = True\n",
    "plt.yticks([0, 0.5, 1])\n",
    "plt.ylim([-0.1, 1.1])\n",
    "plt.show()"
   ]
  },
  {
   "cell_type": "markdown",
   "metadata": {},
   "source": [
    "---"
   ]
  },
  {
   "cell_type": "markdown",
   "metadata": {},
   "source": [
    "# 5.의사결정 나무(Decision Tree)\n",
    "- 트리 기반 모델\n",
    "- 기본적으로 Feature를 조건 기반으로 참, 거짓으로 나눠 마치 스무고개를 하듯이 학습한다\n",
    "- 트리를 따라가다 보면 머신러닝이 어떻게 학습하여 결론을 내는지 설명 가능하다\n",
    "- 회귀 기반 모델이 아니기 때문에 수학적 가정이 불필요하다\n",
    "- 범주형, 연속형 수치 모두 예측이 가능하다\n",
    "\n",
    "- But, 선형성이 없으므로 트리를 너무 깊게 만들면 과대적합 발생 확률이 높아진다\n",
    "- 출력변수가 연속형인 경우 에측력이 떨어질 수 있다."
   ]
  },
  {
   "cell_type": "markdown",
   "metadata": {},
   "source": [
    "# 6.의사결정나무 실습하기\n",
    "- 데이터 : 건강검진 \n",
    "- 목표 : 신장, 성별, 체중을 가지고 음주여부 예측하기\n",
    "\n",
    "- 하이퍼파라미터\n",
    "    - max_depth : 깊어질 수 있는 최대 깊이, 과대적합 방지용(default = None)\n",
    "    - max_features : 최대로 사용할 feature의 개수, 과대적합 방지용\n",
    "    - min_samples_split : 트리의 노드가 가지고 있는 최소한의 샘플 수, default = 2, 과대적합 방지용"
   ]
  },
  {
   "cell_type": "markdown",
   "metadata": {},
   "source": [
    "## 6-1. 데이터 준비"
   ]
  },
  {
   "cell_type": "markdown",
   "metadata": {},
   "source": [
    "#### 데이터 추출"
   ]
  },
  {
   "cell_type": "code",
   "execution_count": 25,
   "metadata": {},
   "outputs": [
    {
     "data": {
      "text/html": [
       "<div>\n",
       "<style scoped>\n",
       "    .dataframe tbody tr th:only-of-type {\n",
       "        vertical-align: middle;\n",
       "    }\n",
       "\n",
       "    .dataframe tbody tr th {\n",
       "        vertical-align: top;\n",
       "    }\n",
       "\n",
       "    .dataframe thead th {\n",
       "        text-align: right;\n",
       "    }\n",
       "</style>\n",
       "<table border=\"1\" class=\"dataframe\">\n",
       "  <thead>\n",
       "    <tr style=\"text-align: right;\">\n",
       "      <th></th>\n",
       "      <th>신장(5Cm단위)</th>\n",
       "      <th>성별코드</th>\n",
       "      <th>체중(5Kg 단위)</th>\n",
       "      <th>음주여부</th>\n",
       "    </tr>\n",
       "  </thead>\n",
       "  <tbody>\n",
       "    <tr>\n",
       "      <th>0</th>\n",
       "      <td>160</td>\n",
       "      <td>2</td>\n",
       "      <td>60</td>\n",
       "      <td>0.0</td>\n",
       "    </tr>\n",
       "    <tr>\n",
       "      <th>1</th>\n",
       "      <td>160</td>\n",
       "      <td>2</td>\n",
       "      <td>60</td>\n",
       "      <td>1.0</td>\n",
       "    </tr>\n",
       "    <tr>\n",
       "      <th>2</th>\n",
       "      <td>150</td>\n",
       "      <td>2</td>\n",
       "      <td>60</td>\n",
       "      <td>1.0</td>\n",
       "    </tr>\n",
       "    <tr>\n",
       "      <th>3</th>\n",
       "      <td>150</td>\n",
       "      <td>2</td>\n",
       "      <td>60</td>\n",
       "      <td>0.0</td>\n",
       "    </tr>\n",
       "    <tr>\n",
       "      <th>4</th>\n",
       "      <td>155</td>\n",
       "      <td>2</td>\n",
       "      <td>60</td>\n",
       "      <td>1.0</td>\n",
       "    </tr>\n",
       "    <tr>\n",
       "      <th>...</th>\n",
       "      <td>...</td>\n",
       "      <td>...</td>\n",
       "      <td>...</td>\n",
       "      <td>...</td>\n",
       "    </tr>\n",
       "    <tr>\n",
       "      <th>999995</th>\n",
       "      <td>150</td>\n",
       "      <td>2</td>\n",
       "      <td>60</td>\n",
       "      <td>0.0</td>\n",
       "    </tr>\n",
       "    <tr>\n",
       "      <th>999996</th>\n",
       "      <td>170</td>\n",
       "      <td>1</td>\n",
       "      <td>100</td>\n",
       "      <td>0.0</td>\n",
       "    </tr>\n",
       "    <tr>\n",
       "      <th>999997</th>\n",
       "      <td>150</td>\n",
       "      <td>2</td>\n",
       "      <td>75</td>\n",
       "      <td>0.0</td>\n",
       "    </tr>\n",
       "    <tr>\n",
       "      <th>999998</th>\n",
       "      <td>160</td>\n",
       "      <td>2</td>\n",
       "      <td>55</td>\n",
       "      <td>0.0</td>\n",
       "    </tr>\n",
       "    <tr>\n",
       "      <th>999999</th>\n",
       "      <td>160</td>\n",
       "      <td>1</td>\n",
       "      <td>65</td>\n",
       "      <td>0.0</td>\n",
       "    </tr>\n",
       "  </tbody>\n",
       "</table>\n",
       "<p>1000000 rows × 4 columns</p>\n",
       "</div>"
      ],
      "text/plain": [
       "        신장(5Cm단위)  성별코드  체중(5Kg 단위)  음주여부\n",
       "0             160     2          60   0.0\n",
       "1             160     2          60   1.0\n",
       "2             150     2          60   1.0\n",
       "3             150     2          60   0.0\n",
       "4             155     2          60   1.0\n",
       "...           ...   ...         ...   ...\n",
       "999995        150     2          60   0.0\n",
       "999996        170     1         100   0.0\n",
       "999997        150     2          75   0.0\n",
       "999998        160     2          55   0.0\n",
       "999999        160     1          65   0.0\n",
       "\n",
       "[1000000 rows x 4 columns]"
      ]
     },
     "execution_count": 25,
     "metadata": {},
     "output_type": "execute_result"
    }
   ],
   "source": [
    "df = pd.read_csv('./지도학습_데이터/국민건강보험공단_건강검진정보_20211231.csv', encoding='cp949')\n",
    "df.columns = columns_name\n",
    "\n",
    "sample_df = df[['신장(5Cm단위)', '성별코드', '체중(5Kg 단위)', '음주여부']]\n",
    "sample_df"
   ]
  },
  {
   "cell_type": "markdown",
   "metadata": {},
   "source": [
    "#### 결측치 확인/제거"
   ]
  },
  {
   "cell_type": "code",
   "execution_count": 34,
   "metadata": {},
   "outputs": [
    {
     "name": "stdout",
     "output_type": "stream",
     "text": [
      "<class 'pandas.core.frame.DataFrame'>\n",
      "RangeIndex: 1000000 entries, 0 to 999999\n",
      "Data columns (total 4 columns):\n",
      " #   Column      Non-Null Count    Dtype  \n",
      "---  ------      --------------    -----  \n",
      " 0   신장(5Cm단위)   1000000 non-null  int64  \n",
      " 1   성별코드        1000000 non-null  int64  \n",
      " 2   체중(5Kg 단위)  1000000 non-null  int64  \n",
      " 3   음주여부        999832 non-null   float64\n",
      "dtypes: float64(1), int64(3)\n",
      "memory usage: 30.5 MB\n"
     ]
    }
   ],
   "source": [
    "sample_df.info()"
   ]
  },
  {
   "cell_type": "code",
   "execution_count": 36,
   "metadata": {},
   "outputs": [
    {
     "name": "stdout",
     "output_type": "stream",
     "text": [
      "<class 'pandas.core.frame.DataFrame'>\n",
      "Int64Index: 999832 entries, 0 to 999999\n",
      "Data columns (total 4 columns):\n",
      " #   Column      Non-Null Count   Dtype  \n",
      "---  ------      --------------   -----  \n",
      " 0   신장(5Cm단위)   999832 non-null  int64  \n",
      " 1   성별코드        999832 non-null  int64  \n",
      " 2   체중(5Kg 단위)  999832 non-null  int64  \n",
      " 3   음주여부        999832 non-null  float64\n",
      "dtypes: float64(1), int64(3)\n",
      "memory usage: 38.1 MB\n"
     ]
    }
   ],
   "source": [
    "sample = sample_df.dropna()\n",
    "sample.info()"
   ]
  },
  {
   "cell_type": "markdown",
   "metadata": {},
   "source": [
    "#### x,y 데이터 분리"
   ]
  },
  {
   "cell_type": "code",
   "execution_count": 37,
   "metadata": {},
   "outputs": [],
   "source": [
    "X = sample.drop('음주여부', axis=1)\n",
    "y = sample['음주여부']"
   ]
  },
  {
   "cell_type": "markdown",
   "metadata": {},
   "source": [
    "#### 데이터 편향 확인"
   ]
  },
  {
   "cell_type": "code",
   "execution_count": 38,
   "metadata": {},
   "outputs": [
    {
     "data": {
      "text/plain": [
       "1.0    576965\n",
       "0.0    422867\n",
       "Name: 음주여부, dtype: int64"
      ]
     },
     "execution_count": 38,
     "metadata": {},
     "output_type": "execute_result"
    }
   ],
   "source": [
    "y.value_counts()"
   ]
  },
  {
   "cell_type": "markdown",
   "metadata": {},
   "source": [
    "## 6-2.학습/검증 데이터 나누기"
   ]
  },
  {
   "cell_type": "code",
   "execution_count": 39,
   "metadata": {},
   "outputs": [
    {
     "name": "stdout",
     "output_type": "stream",
     "text": [
      "x_train.shape :  (799865, 3)\n",
      "x_valid.shape :  (199967, 3)\n",
      "y_train.shape :  (799865,)\n",
      "y_valid.shape :  (199967,)\n"
     ]
    }
   ],
   "source": [
    "x_train, x_valid, y_train, y_valid = train_test_split(X,y, test_size=0.2, shuffle=True, random_state=2023)\n",
    "print(\"x_train.shape : \", x_train.shape)\n",
    "print(\"x_valid.shape : \", x_valid.shape)\n",
    "\n",
    "print(\"y_train.shape : \", y_train.shape)\n",
    "print(\"y_valid.shape : \", y_valid.shape)"
   ]
  },
  {
   "cell_type": "markdown",
   "metadata": {},
   "source": [
    "## 6-3.의사결정나무 모델링하기"
   ]
  },
  {
   "cell_type": "code",
   "execution_count": 46,
   "metadata": {},
   "outputs": [
    {
     "name": "stdout",
     "output_type": "stream",
     "text": [
      "학습 정확도 =  0.6702005963506341\n",
      "검증 정확도 =  0.6697605104842299\n"
     ]
    }
   ],
   "source": [
    "from sklearn.tree import DecisionTreeClassifier\n",
    "\n",
    "# 학습\n",
    "dt = DecisionTreeClassifier(max_depth=3, random_state=2023)\n",
    "dt_model = dt.fit(x_train, y_train)\n",
    "\n",
    "# 예측 \n",
    "y_pred = dt_model.predict(x_valid)\n",
    "\n",
    "# 정확도 검증\n",
    "print('학습 정확도 = ', dt_model.score(x_train, y_train))\n",
    "print('검증 정확도 = ', dt_model.score(x_valid, y_valid))"
   ]
  },
  {
   "cell_type": "markdown",
   "metadata": {},
   "source": [
    "## 6-4.그래프 그리기"
   ]
  },
  {
   "cell_type": "code",
   "execution_count": 47,
   "metadata": {},
   "outputs": [],
   "source": [
    "import graphviz\n",
    "from sklearn.tree import export_graphviz"
   ]
  },
  {
   "cell_type": "code",
   "execution_count": 48,
   "metadata": {},
   "outputs": [
    {
     "data": {
      "image/svg+xml": [
       "<?xml version=\"1.0\" encoding=\"UTF-8\" standalone=\"no\"?>\n",
       "<!DOCTYPE svg PUBLIC \"-//W3C//DTD SVG 1.1//EN\"\n",
       " \"http://www.w3.org/Graphics/SVG/1.1/DTD/svg11.dtd\">\n",
       "<!-- Generated by graphviz version 9.0.0 (20230911.1827)\n",
       " -->\n",
       "<!-- Title: Tree Pages: 1 -->\n",
       "<svg width=\"1430pt\" height=\"462pt\"\n",
       " viewBox=\"0.00 0.00 1430.12 461.50\" xmlns=\"http://www.w3.org/2000/svg\" xmlns:xlink=\"http://www.w3.org/1999/xlink\">\n",
       "<g id=\"graph0\" class=\"graph\" transform=\"scale(1 1) rotate(0) translate(4 457.5)\">\n",
       "<title>Tree</title>\n",
       "<polygon fill=\"white\" stroke=\"none\" points=\"-4,4 -4,-457.5 1426.12,-457.5 1426.12,4 -4,4\"/>\n",
       "<!-- 0 -->\n",
       "<g id=\"node1\" class=\"node\">\n",
       "<title>0</title>\n",
       "<polygon fill=\"#cae5f8\" stroke=\"black\" points=\"791.38,-453.5 612.62,-453.5 612.62,-363 791.38,-363 791.38,-453.5\"/>\n",
       "<text text-anchor=\"middle\" x=\"702\" y=\"-436.2\" font-family=\"Helvetica,sans-Serif\" font-size=\"14.00\">sex &lt;= 1.5</text>\n",
       "<text text-anchor=\"middle\" x=\"702\" y=\"-419.7\" font-family=\"Helvetica,sans-Serif\" font-size=\"14.00\">gini = 0.488</text>\n",
       "<text text-anchor=\"middle\" x=\"702\" y=\"-403.2\" font-family=\"Helvetica,sans-Serif\" font-size=\"14.00\">samples = 799865</text>\n",
       "<text text-anchor=\"middle\" x=\"702\" y=\"-386.7\" font-family=\"Helvetica,sans-Serif\" font-size=\"14.00\">value = [338138, 461727]</text>\n",
       "<text text-anchor=\"middle\" x=\"702\" y=\"-370.2\" font-family=\"Helvetica,sans-Serif\" font-size=\"14.00\">class = o</text>\n",
       "</g>\n",
       "<!-- 1 -->\n",
       "<g id=\"node2\" class=\"node\">\n",
       "<title>1</title>\n",
       "<polygon fill=\"#81c0ee\" stroke=\"black\" points=\"609.38,-327 430.62,-327 430.62,-236.5 609.38,-236.5 609.38,-327\"/>\n",
       "<text text-anchor=\"middle\" x=\"520\" y=\"-309.7\" font-family=\"Helvetica,sans-Serif\" font-size=\"14.00\">height &lt;= 162.5</text>\n",
       "<text text-anchor=\"middle\" x=\"520\" y=\"-293.2\" font-family=\"Helvetica,sans-Serif\" font-size=\"14.00\">gini = 0.39</text>\n",
       "<text text-anchor=\"middle\" x=\"520\" y=\"-276.7\" font-family=\"Helvetica,sans-Serif\" font-size=\"14.00\">samples = 399874</text>\n",
       "<text text-anchor=\"middle\" x=\"520\" y=\"-260.2\" font-family=\"Helvetica,sans-Serif\" font-size=\"14.00\">value = [106122, 293752]</text>\n",
       "<text text-anchor=\"middle\" x=\"520\" y=\"-243.7\" font-family=\"Helvetica,sans-Serif\" font-size=\"14.00\">class = o</text>\n",
       "</g>\n",
       "<!-- 0&#45;&gt;1 -->\n",
       "<g id=\"edge1\" class=\"edge\">\n",
       "<title>0&#45;&gt;1</title>\n",
       "<path fill=\"none\" stroke=\"black\" d=\"M636.81,-362.65C623.09,-353.27 608.51,-343.3 594.48,-333.7\"/>\n",
       "<polygon fill=\"black\" stroke=\"black\" points=\"596.83,-331.06 586.6,-328.31 592.88,-336.84 596.83,-331.06\"/>\n",
       "<text text-anchor=\"middle\" x=\"589.96\" y=\"-346.97\" font-family=\"Helvetica,sans-Serif\" font-size=\"14.00\">True</text>\n",
       "</g>\n",
       "<!-- 8 -->\n",
       "<g id=\"node9\" class=\"node\">\n",
       "<title>8</title>\n",
       "<polygon fill=\"#f8dcc8\" stroke=\"black\" points=\"973.38,-327 794.62,-327 794.62,-236.5 973.38,-236.5 973.38,-327\"/>\n",
       "<text text-anchor=\"middle\" x=\"884\" y=\"-309.7\" font-family=\"Helvetica,sans-Serif\" font-size=\"14.00\">height &lt;= 152.5</text>\n",
       "<text text-anchor=\"middle\" x=\"884\" y=\"-293.2\" font-family=\"Helvetica,sans-Serif\" font-size=\"14.00\">gini = 0.487</text>\n",
       "<text text-anchor=\"middle\" x=\"884\" y=\"-276.7\" font-family=\"Helvetica,sans-Serif\" font-size=\"14.00\">samples = 399991</text>\n",
       "<text text-anchor=\"middle\" x=\"884\" y=\"-260.2\" font-family=\"Helvetica,sans-Serif\" font-size=\"14.00\">value = [232016, 167975]</text>\n",
       "<text text-anchor=\"middle\" x=\"884\" y=\"-243.7\" font-family=\"Helvetica,sans-Serif\" font-size=\"14.00\">class = x</text>\n",
       "</g>\n",
       "<!-- 0&#45;&gt;8 -->\n",
       "<g id=\"edge8\" class=\"edge\">\n",
       "<title>0&#45;&gt;8</title>\n",
       "<path fill=\"none\" stroke=\"black\" d=\"M767.19,-362.65C780.91,-353.27 795.49,-343.3 809.52,-333.7\"/>\n",
       "<polygon fill=\"black\" stroke=\"black\" points=\"811.12,-336.84 817.4,-328.31 807.17,-331.06 811.12,-336.84\"/>\n",
       "<text text-anchor=\"middle\" x=\"814.04\" y=\"-346.97\" font-family=\"Helvetica,sans-Serif\" font-size=\"14.00\">False</text>\n",
       "</g>\n",
       "<!-- 2 -->\n",
       "<g id=\"node3\" class=\"node\">\n",
       "<title>2</title>\n",
       "<polygon fill=\"#b1d8f5\" stroke=\"black\" points=\"334.12,-200.5 171.88,-200.5 171.88,-110 334.12,-110 334.12,-200.5\"/>\n",
       "<text text-anchor=\"middle\" x=\"253\" y=\"-183.2\" font-family=\"Helvetica,sans-Serif\" font-size=\"14.00\">height &lt;= 157.5</text>\n",
       "<text text-anchor=\"middle\" x=\"253\" y=\"-166.7\" font-family=\"Helvetica,sans-Serif\" font-size=\"14.00\">gini = 0.47</text>\n",
       "<text text-anchor=\"middle\" x=\"253\" y=\"-150.2\" font-family=\"Helvetica,sans-Serif\" font-size=\"14.00\">samples = 83221</text>\n",
       "<text text-anchor=\"middle\" x=\"253\" y=\"-133.7\" font-family=\"Helvetica,sans-Serif\" font-size=\"14.00\">value = [31399, 51822]</text>\n",
       "<text text-anchor=\"middle\" x=\"253\" y=\"-117.2\" font-family=\"Helvetica,sans-Serif\" font-size=\"14.00\">class = o</text>\n",
       "</g>\n",
       "<!-- 1&#45;&gt;2 -->\n",
       "<g id=\"edge2\" class=\"edge\">\n",
       "<title>1&#45;&gt;2</title>\n",
       "<path fill=\"none\" stroke=\"black\" d=\"M430.35,-238.95C402.69,-226.05 372.2,-211.83 344.43,-198.88\"/>\n",
       "<polygon fill=\"black\" stroke=\"black\" points=\"346.24,-195.87 335.7,-194.81 343.28,-202.21 346.24,-195.87\"/>\n",
       "</g>\n",
       "<!-- 5 -->\n",
       "<g id=\"node6\" class=\"node\">\n",
       "<title>5</title>\n",
       "<polygon fill=\"#76bbed\" stroke=\"black\" points=\"605.25,-200.5 434.75,-200.5 434.75,-110 605.25,-110 605.25,-200.5\"/>\n",
       "<text text-anchor=\"middle\" x=\"520\" y=\"-183.2\" font-family=\"Helvetica,sans-Serif\" font-size=\"14.00\">height &lt;= 167.5</text>\n",
       "<text text-anchor=\"middle\" x=\"520\" y=\"-166.7\" font-family=\"Helvetica,sans-Serif\" font-size=\"14.00\">gini = 0.361</text>\n",
       "<text text-anchor=\"middle\" x=\"520\" y=\"-150.2\" font-family=\"Helvetica,sans-Serif\" font-size=\"14.00\">samples = 316653</text>\n",
       "<text text-anchor=\"middle\" x=\"520\" y=\"-133.7\" font-family=\"Helvetica,sans-Serif\" font-size=\"14.00\">value = [74723, 241930]</text>\n",
       "<text text-anchor=\"middle\" x=\"520\" y=\"-117.2\" font-family=\"Helvetica,sans-Serif\" font-size=\"14.00\">class = o</text>\n",
       "</g>\n",
       "<!-- 1&#45;&gt;5 -->\n",
       "<g id=\"edge5\" class=\"edge\">\n",
       "<title>1&#45;&gt;5</title>\n",
       "<path fill=\"none\" stroke=\"black\" d=\"M520,-236.15C520,-228.47 520,-220.39 520,-212.44\"/>\n",
       "<polygon fill=\"black\" stroke=\"black\" points=\"523.5,-212.47 520,-202.47 516.5,-212.47 523.5,-212.47\"/>\n",
       "</g>\n",
       "<!-- 3 -->\n",
       "<g id=\"node4\" class=\"node\">\n",
       "<title>3</title>\n",
       "<polygon fill=\"#d5eaf9\" stroke=\"black\" points=\"154,-74 0,-74 0,0 154,0 154,-74\"/>\n",
       "<text text-anchor=\"middle\" x=\"77\" y=\"-56.7\" font-family=\"Helvetica,sans-Serif\" font-size=\"14.00\">gini = 0.493</text>\n",
       "<text text-anchor=\"middle\" x=\"77\" y=\"-40.2\" font-family=\"Helvetica,sans-Serif\" font-size=\"14.00\">samples = 22143</text>\n",
       "<text text-anchor=\"middle\" x=\"77\" y=\"-23.7\" font-family=\"Helvetica,sans-Serif\" font-size=\"14.00\">value = [9756, 12387]</text>\n",
       "<text text-anchor=\"middle\" x=\"77\" y=\"-7.2\" font-family=\"Helvetica,sans-Serif\" font-size=\"14.00\">class = o</text>\n",
       "</g>\n",
       "<!-- 2&#45;&gt;3 -->\n",
       "<g id=\"edge3\" class=\"edge\">\n",
       "<title>2&#45;&gt;3</title>\n",
       "<path fill=\"none\" stroke=\"black\" d=\"M185.46,-109.64C170.98,-100.08 155.73,-90 141.38,-80.52\"/>\n",
       "<polygon fill=\"black\" stroke=\"black\" points=\"143.64,-77.82 133.36,-75.23 139.78,-83.66 143.64,-77.82\"/>\n",
       "</g>\n",
       "<!-- 4 -->\n",
       "<g id=\"node5\" class=\"node\">\n",
       "<title>4</title>\n",
       "<polygon fill=\"#a6d3f3\" stroke=\"black\" points=\"334.12,-74 171.88,-74 171.88,0 334.12,0 334.12,-74\"/>\n",
       "<text text-anchor=\"middle\" x=\"253\" y=\"-56.7\" font-family=\"Helvetica,sans-Serif\" font-size=\"14.00\">gini = 0.458</text>\n",
       "<text text-anchor=\"middle\" x=\"253\" y=\"-40.2\" font-family=\"Helvetica,sans-Serif\" font-size=\"14.00\">samples = 61078</text>\n",
       "<text text-anchor=\"middle\" x=\"253\" y=\"-23.7\" font-family=\"Helvetica,sans-Serif\" font-size=\"14.00\">value = [21643, 39435]</text>\n",
       "<text text-anchor=\"middle\" x=\"253\" y=\"-7.2\" font-family=\"Helvetica,sans-Serif\" font-size=\"14.00\">class = o</text>\n",
       "</g>\n",
       "<!-- 2&#45;&gt;4 -->\n",
       "<g id=\"edge4\" class=\"edge\">\n",
       "<title>2&#45;&gt;4</title>\n",
       "<path fill=\"none\" stroke=\"black\" d=\"M253,-109.64C253,-101.81 253,-93.63 253,-85.72\"/>\n",
       "<polygon fill=\"black\" stroke=\"black\" points=\"256.5,-85.91 253,-75.91 249.5,-85.91 256.5,-85.91\"/>\n",
       "</g>\n",
       "<!-- 6 -->\n",
       "<g id=\"node7\" class=\"node\">\n",
       "<title>6</title>\n",
       "<polygon fill=\"#87c4ef\" stroke=\"black\" points=\"514.12,-74 351.88,-74 351.88,0 514.12,0 514.12,-74\"/>\n",
       "<text text-anchor=\"middle\" x=\"433\" y=\"-56.7\" font-family=\"Helvetica,sans-Serif\" font-size=\"14.00\">gini = 0.406</text>\n",
       "<text text-anchor=\"middle\" x=\"433\" y=\"-40.2\" font-family=\"Helvetica,sans-Serif\" font-size=\"14.00\">samples = 111503</text>\n",
       "<text text-anchor=\"middle\" x=\"433\" y=\"-23.7\" font-family=\"Helvetica,sans-Serif\" font-size=\"14.00\">value = [31601, 79902]</text>\n",
       "<text text-anchor=\"middle\" x=\"433\" y=\"-7.2\" font-family=\"Helvetica,sans-Serif\" font-size=\"14.00\">class = o</text>\n",
       "</g>\n",
       "<!-- 5&#45;&gt;6 -->\n",
       "<g id=\"edge6\" class=\"edge\">\n",
       "<title>5&#45;&gt;6</title>\n",
       "<path fill=\"none\" stroke=\"black\" d=\"M486.61,-109.64C480.21,-101.08 473.49,-92.11 467.07,-83.52\"/>\n",
       "<polygon fill=\"black\" stroke=\"black\" points=\"469.94,-81.51 461.14,-75.61 464.33,-85.71 469.94,-81.51\"/>\n",
       "</g>\n",
       "<!-- 7 -->\n",
       "<g id=\"node8\" class=\"node\">\n",
       "<title>7</title>\n",
       "<polygon fill=\"#6eb7ec\" stroke=\"black\" points=\"702.25,-74 531.75,-74 531.75,0 702.25,0 702.25,-74\"/>\n",
       "<text text-anchor=\"middle\" x=\"617\" y=\"-56.7\" font-family=\"Helvetica,sans-Serif\" font-size=\"14.00\">gini = 0.332</text>\n",
       "<text text-anchor=\"middle\" x=\"617\" y=\"-40.2\" font-family=\"Helvetica,sans-Serif\" font-size=\"14.00\">samples = 205150</text>\n",
       "<text text-anchor=\"middle\" x=\"617\" y=\"-23.7\" font-family=\"Helvetica,sans-Serif\" font-size=\"14.00\">value = [43122, 162028]</text>\n",
       "<text text-anchor=\"middle\" x=\"617\" y=\"-7.2\" font-family=\"Helvetica,sans-Serif\" font-size=\"14.00\">class = o</text>\n",
       "</g>\n",
       "<!-- 5&#45;&gt;7 -->\n",
       "<g id=\"edge7\" class=\"edge\">\n",
       "<title>5&#45;&gt;7</title>\n",
       "<path fill=\"none\" stroke=\"black\" d=\"M557.23,-109.64C564.52,-100.9 572.17,-91.73 579.47,-82.97\"/>\n",
       "<polygon fill=\"black\" stroke=\"black\" points=\"581.94,-85.48 585.66,-75.56 576.57,-80.99 581.94,-85.48\"/>\n",
       "</g>\n",
       "<!-- 9 -->\n",
       "<g id=\"node10\" class=\"node\">\n",
       "<title>9</title>\n",
       "<polygon fill=\"#f0b78e\" stroke=\"black\" points=\"969.25,-200.5 798.75,-200.5 798.75,-110 969.25,-110 969.25,-200.5\"/>\n",
       "<text text-anchor=\"middle\" x=\"884\" y=\"-183.2\" font-family=\"Helvetica,sans-Serif\" font-size=\"14.00\">height &lt;= 147.5</text>\n",
       "<text text-anchor=\"middle\" x=\"884\" y=\"-166.7\" font-family=\"Helvetica,sans-Serif\" font-size=\"14.00\">gini = 0.421</text>\n",
       "<text text-anchor=\"middle\" x=\"884\" y=\"-150.2\" font-family=\"Helvetica,sans-Serif\" font-size=\"14.00\">samples = 147961</text>\n",
       "<text text-anchor=\"middle\" x=\"884\" y=\"-133.7\" font-family=\"Helvetica,sans-Serif\" font-size=\"14.00\">value = [103381, 44580]</text>\n",
       "<text text-anchor=\"middle\" x=\"884\" y=\"-117.2\" font-family=\"Helvetica,sans-Serif\" font-size=\"14.00\">class = x</text>\n",
       "</g>\n",
       "<!-- 8&#45;&gt;9 -->\n",
       "<g id=\"edge9\" class=\"edge\">\n",
       "<title>8&#45;&gt;9</title>\n",
       "<path fill=\"none\" stroke=\"black\" d=\"M884,-236.15C884,-228.47 884,-220.39 884,-212.44\"/>\n",
       "<polygon fill=\"black\" stroke=\"black\" points=\"887.5,-212.47 884,-202.47 880.5,-212.47 887.5,-212.47\"/>\n",
       "</g>\n",
       "<!-- 12 -->\n",
       "<g id=\"node13\" class=\"node\">\n",
       "<title>12</title>\n",
       "<polygon fill=\"#fefaf7\" stroke=\"black\" points=\"1250.38,-200.5 1071.62,-200.5 1071.62,-110 1250.38,-110 1250.38,-200.5\"/>\n",
       "<text text-anchor=\"middle\" x=\"1161\" y=\"-183.2\" font-family=\"Helvetica,sans-Serif\" font-size=\"14.00\">height &lt;= 157.5</text>\n",
       "<text text-anchor=\"middle\" x=\"1161\" y=\"-166.7\" font-family=\"Helvetica,sans-Serif\" font-size=\"14.00\">gini = 0.5</text>\n",
       "<text text-anchor=\"middle\" x=\"1161\" y=\"-150.2\" font-family=\"Helvetica,sans-Serif\" font-size=\"14.00\">samples = 252030</text>\n",
       "<text text-anchor=\"middle\" x=\"1161\" y=\"-133.7\" font-family=\"Helvetica,sans-Serif\" font-size=\"14.00\">value = [128635, 123395]</text>\n",
       "<text text-anchor=\"middle\" x=\"1161\" y=\"-117.2\" font-family=\"Helvetica,sans-Serif\" font-size=\"14.00\">class = x</text>\n",
       "</g>\n",
       "<!-- 8&#45;&gt;12 -->\n",
       "<g id=\"edge12\" class=\"edge\">\n",
       "<title>8&#45;&gt;12</title>\n",
       "<path fill=\"none\" stroke=\"black\" d=\"M973.55,-240.5C1001.43,-227.97 1032.33,-214.08 1060.88,-201.25\"/>\n",
       "<polygon fill=\"black\" stroke=\"black\" points=\"1062.22,-204.49 1069.9,-197.19 1059.35,-198.1 1062.22,-204.49\"/>\n",
       "</g>\n",
       "<!-- 10 -->\n",
       "<g id=\"node11\" class=\"node\">\n",
       "<title>10</title>\n",
       "<polygon fill=\"#eca571\" stroke=\"black\" points=\"882.12,-74 719.88,-74 719.88,0 882.12,0 882.12,-74\"/>\n",
       "<text text-anchor=\"middle\" x=\"801\" y=\"-56.7\" font-family=\"Helvetica,sans-Serif\" font-size=\"14.00\">gini = 0.343</text>\n",
       "<text text-anchor=\"middle\" x=\"801\" y=\"-40.2\" font-family=\"Helvetica,sans-Serif\" font-size=\"14.00\">samples = 49648</text>\n",
       "<text text-anchor=\"middle\" x=\"801\" y=\"-23.7\" font-family=\"Helvetica,sans-Serif\" font-size=\"14.00\">value = [38729, 10919]</text>\n",
       "<text text-anchor=\"middle\" x=\"801\" y=\"-7.2\" font-family=\"Helvetica,sans-Serif\" font-size=\"14.00\">class = x</text>\n",
       "</g>\n",
       "<!-- 9&#45;&gt;10 -->\n",
       "<g id=\"edge10\" class=\"edge\">\n",
       "<title>9&#45;&gt;10</title>\n",
       "<path fill=\"none\" stroke=\"black\" d=\"M852.15,-109.64C846.04,-101.08 839.63,-92.11 833.5,-83.52\"/>\n",
       "<polygon fill=\"black\" stroke=\"black\" points=\"836.52,-81.73 827.86,-75.63 830.83,-85.8 836.52,-81.73\"/>\n",
       "</g>\n",
       "<!-- 11 -->\n",
       "<g id=\"node12\" class=\"node\">\n",
       "<title>11</title>\n",
       "<polygon fill=\"#f3c3a0\" stroke=\"black\" points=\"1062.12,-74 899.88,-74 899.88,0 1062.12,0 1062.12,-74\"/>\n",
       "<text text-anchor=\"middle\" x=\"981\" y=\"-56.7\" font-family=\"Helvetica,sans-Serif\" font-size=\"14.00\">gini = 0.45</text>\n",
       "<text text-anchor=\"middle\" x=\"981\" y=\"-40.2\" font-family=\"Helvetica,sans-Serif\" font-size=\"14.00\">samples = 98313</text>\n",
       "<text text-anchor=\"middle\" x=\"981\" y=\"-23.7\" font-family=\"Helvetica,sans-Serif\" font-size=\"14.00\">value = [64652, 33661]</text>\n",
       "<text text-anchor=\"middle\" x=\"981\" y=\"-7.2\" font-family=\"Helvetica,sans-Serif\" font-size=\"14.00\">class = x</text>\n",
       "</g>\n",
       "<!-- 9&#45;&gt;11 -->\n",
       "<g id=\"edge11\" class=\"edge\">\n",
       "<title>9&#45;&gt;11</title>\n",
       "<path fill=\"none\" stroke=\"black\" d=\"M921.23,-109.64C928.52,-100.9 936.17,-91.73 943.47,-82.97\"/>\n",
       "<polygon fill=\"black\" stroke=\"black\" points=\"945.94,-85.48 949.66,-75.56 940.57,-80.99 945.94,-85.48\"/>\n",
       "</g>\n",
       "<!-- 13 -->\n",
       "<g id=\"node14\" class=\"node\">\n",
       "<title>13</title>\n",
       "<polygon fill=\"#f9e4d4\" stroke=\"black\" points=\"1242.12,-74 1079.88,-74 1079.88,0 1242.12,0 1242.12,-74\"/>\n",
       "<text text-anchor=\"middle\" x=\"1161\" y=\"-56.7\" font-family=\"Helvetica,sans-Serif\" font-size=\"14.00\">gini = 0.493</text>\n",
       "<text text-anchor=\"middle\" x=\"1161\" y=\"-40.2\" font-family=\"Helvetica,sans-Serif\" font-size=\"14.00\">samples = 128052</text>\n",
       "<text text-anchor=\"middle\" x=\"1161\" y=\"-23.7\" font-family=\"Helvetica,sans-Serif\" font-size=\"14.00\">value = [71797, 56255]</text>\n",
       "<text text-anchor=\"middle\" x=\"1161\" y=\"-7.2\" font-family=\"Helvetica,sans-Serif\" font-size=\"14.00\">class = x</text>\n",
       "</g>\n",
       "<!-- 12&#45;&gt;13 -->\n",
       "<g id=\"edge13\" class=\"edge\">\n",
       "<title>12&#45;&gt;13</title>\n",
       "<path fill=\"none\" stroke=\"black\" d=\"M1161,-109.64C1161,-101.81 1161,-93.63 1161,-85.72\"/>\n",
       "<polygon fill=\"black\" stroke=\"black\" points=\"1164.5,-85.91 1161,-75.91 1157.5,-85.91 1164.5,-85.91\"/>\n",
       "</g>\n",
       "<!-- 14 -->\n",
       "<g id=\"node15\" class=\"node\">\n",
       "<title>14</title>\n",
       "<polygon fill=\"#e1f0fb\" stroke=\"black\" points=\"1422.12,-74 1259.88,-74 1259.88,0 1422.12,0 1422.12,-74\"/>\n",
       "<text text-anchor=\"middle\" x=\"1341\" y=\"-56.7\" font-family=\"Helvetica,sans-Serif\" font-size=\"14.00\">gini = 0.497</text>\n",
       "<text text-anchor=\"middle\" x=\"1341\" y=\"-40.2\" font-family=\"Helvetica,sans-Serif\" font-size=\"14.00\">samples = 123978</text>\n",
       "<text text-anchor=\"middle\" x=\"1341\" y=\"-23.7\" font-family=\"Helvetica,sans-Serif\" font-size=\"14.00\">value = [56838, 67140]</text>\n",
       "<text text-anchor=\"middle\" x=\"1341\" y=\"-7.2\" font-family=\"Helvetica,sans-Serif\" font-size=\"14.00\">class = o</text>\n",
       "</g>\n",
       "<!-- 12&#45;&gt;14 -->\n",
       "<g id=\"edge14\" class=\"edge\">\n",
       "<title>12&#45;&gt;14</title>\n",
       "<path fill=\"none\" stroke=\"black\" d=\"M1230.08,-109.64C1244.88,-100.08 1260.48,-90 1275.16,-80.52\"/>\n",
       "<polygon fill=\"black\" stroke=\"black\" points=\"1276.88,-83.58 1283.38,-75.21 1273.08,-77.7 1276.88,-83.58\"/>\n",
       "</g>\n",
       "</g>\n",
       "</svg>\n"
      ],
      "text/plain": [
       "<graphviz.sources.Source at 0x2442b45f250>"
      ]
     },
     "execution_count": 48,
     "metadata": {},
     "output_type": "execute_result"
    }
   ],
   "source": [
    "tree_graph = graphviz.Source(export_graphviz(dt_model,\n",
    "                                             class_names=['x', 'o'],\n",
    "                                             feature_names=['height', 'sex', 'weight'], \n",
    "                                             impurity=True,\n",
    "                                             filled=True))\n",
    "\n",
    "tree_graph\n",
    "\n"
   ]
  },
  {
   "cell_type": "markdown",
   "metadata": {},
   "source": [
    "\n",
    "### 설명 \n",
    "- 노드 : 네모박스\n",
    "- 루트 노드 : 맨 처음 시작하는 박스\n",
    "- 리프 노드 : 분할 조건이 없는 경우\n",
    "\n",
    "- 노드 첫 줄 : 분할 조건, 자식 노드를 만들기 위한 규칙 조건\n",
    "- 지니계수 : 불순도 지표\n",
    "- 지니계수를 낮추는 방향으로 가지를 분할한다"
   ]
  },
  {
   "cell_type": "markdown",
   "metadata": {},
   "source": [
    "## 6-5.불순도(Impurity)란?"
   ]
  },
  {
   "cell_type": "markdown",
   "metadata": {},
   "source": [
    "- 불순도가 낮다 : 다양한 데이터가 섞여 있다\n",
    "- 과일바구니에 사과 5개만 들어있음 -> 순도 100%\n",
    "- 과일바구니에 사과2, 배1, 바나나2개 들어있음 -> 순도 떨어짐"
   ]
  },
  {
   "cell_type": "markdown",
   "metadata": {},
   "source": [
    "- 지니계수 : 불순도를 측정하는 지표, 데이터의 통계적인 분산의 정도를 정량화해서 표연한다.\n",
    "- 노드의 분할 조건에 의핸 분할된 데이터의 불순도를 지니계수로 계산하고, 불순도를 줄이는 조건을 최종적으로 선택한다.  \n",
    "**Gini = 1 - ∑p² (p : 전체에서 한 종류가 차지하는 비율)**"
   ]
  },
  {
   "cell_type": "markdown",
   "metadata": {},
   "source": [
    "# 7.앙상블(ensemble) \n",
    "- 다수의 기본 모델을 생성하고 결합하여 하나의 새로운 모델을 생성하는 것\n",
    "- 여러 모델을 결함하여 단일 모델보다 성능이 우수하다\n",
    "- 편향과 분산을 모두 적절히 고려하기 때문에 과적합 방지에 용이하다\n",
    "- 어떤 모델을 사용할 것이며, 어떻게 결합할 건지 고려해야 한다\n",
    "  \n",
    "- 대표적인 모델 : 랜덤 포레스트, 그래디언 부스팅\n",
    "- 모델 결합 방법(앙상블 기법) : 보팅, 배깅, 부스팅"
   ]
  },
  {
   "cell_type": "markdown",
   "metadata": {},
   "source": [
    "## 7-1.보팅(Voting)\n",
    "- 하드보팅, 소프트보팅으로 구분한다\n",
    "- **하드 보팅** : 모델의 결과 중 **가장 많이 분류된 결과**를 최종 결과로 선정하는 방법\n",
    "- **소프트 보팅** : 모델별 **예측한 확률값의 평균**으로 최종값을 선정\n",
    "\n"
   ]
  },
  {
   "cell_type": "markdown",
   "metadata": {},
   "source": [
    "## 7-2.배깅(Bagging)\n",
    "- 알고리즘을 학습하여 생성된 여러 모델의 결과를 결합하는 방법\n",
    "- 부트스트랩 기반 샘플링 기법이다. 부트스트랩은 원본 데이터에서 샘플을 여러 번 복원 추출하는 과정을 반복하는 샘플링 방법이다.\n",
    "- 복원 샘플링을 통해 최종 모델의 분산을 줄여줌으로써 예측력을 향상시킨다\n",
    "- 병렬학습이 가능하다는 장점이 있다\n",
    "- 배깅의 대표적 알고리즘 : 랜덤 포레스트  \n",
    "  \n",
    "- 진행 순서\n",
    "    - 학습 데이터로부터 부트스트랩 샘플링 진행 : 부트스트랩 데이터 생성\n",
    "    - 각 부트스트랩 데이터로 다수의 개별 모델 학습\n",
    "    - 최종 예측을 위해 Voting진행"
   ]
  },
  {
   "cell_type": "markdown",
   "metadata": {},
   "source": [
    "### 7-2-1. Random Forest  실습\n",
    "\n",
    "- 하이퍼 파라미터\n",
    "    - max_depth : 깊어질 수 있는 최대 깊이, 과대적합 방지용(default = None)\n",
    "    - n_estimators : 앙상블하는 트리 개수(default = 100)\n",
    "    - max_features : 최대로 사용할 feature의 개수, 과대적합 방지용\n",
    "    - min_smaples_split : 트리가 분할할 때 최소 샘플의 개수, default = 2, 과대적합 방지용"
   ]
  },
  {
   "cell_type": "markdown",
   "metadata": {},
   "source": [
    "#### 1.데이터 준비"
   ]
  },
  {
   "cell_type": "code",
   "execution_count": 54,
   "metadata": {},
   "outputs": [],
   "source": [
    "from tensorflow.keras.datasets.mnist import load_data\n",
    "from sklearn.ensemble import RandomForestClassifier"
   ]
  },
  {
   "cell_type": "code",
   "execution_count": 53,
   "metadata": {},
   "outputs": [
    {
     "name": "stdout",
     "output_type": "stream",
     "text": [
      "Downloading data from https://storage.googleapis.com/tensorflow/tf-keras-datasets/mnist.npz\n",
      "11490434/11490434 [==============================] - 2s 0us/step\n",
      "변경 전  (60000, 28, 28)\n",
      "변경 후  (60000, 784)\n"
     ]
    }
   ],
   "source": [
    "(x_train, y_train), (x_test, y_test) = load_data()\n",
    "print(\"변경 전 \", x_train.shape)\n",
    "\n",
    "# 3차원의 이미지 행렬을 2차원으로 변경\n",
    "X_train = x_train.reshape(-1, 784)\n",
    "X_test = x_test.reshape(-1, 784)\n",
    "print('변경 후 ', X_train.shape)"
   ]
  },
  {
   "cell_type": "markdown",
   "metadata": {},
   "source": [
    "#### 2.의사결정나무 모델링"
   ]
  },
  {
   "cell_type": "code",
   "execution_count": 56,
   "metadata": {},
   "outputs": [
    {
     "name": "stdout",
     "output_type": "stream",
     "text": [
      "학습 결과 =  1.0\n",
      "검증 결과 =  0.8781\n"
     ]
    }
   ],
   "source": [
    "# 학습\n",
    "dct = DecisionTreeClassifier(random_state=0)\n",
    "dct.fit(X_train, y_train)\n",
    "\n",
    "# 결과 확인\n",
    "acc_train_dct = dct.score(X_train, y_train)\n",
    "acc_test_dct = dct.score(X_test, y_test)\n",
    "\n",
    "print(\"학습 결과 = \", acc_train_dct)\n",
    "print(\"검증 결과 = \", acc_test_dct)"
   ]
  },
  {
   "cell_type": "markdown",
   "metadata": {},
   "source": [
    "#### 3.랜덤포레스트 모델링"
   ]
  },
  {
   "cell_type": "code",
   "execution_count": 57,
   "metadata": {},
   "outputs": [
    {
     "name": "stdout",
     "output_type": "stream",
     "text": [
      "학습 결과 =  1.0\n",
      "검증 결과 =  0.9705\n"
     ]
    }
   ],
   "source": [
    "# 학습\n",
    "rfc = RandomForestClassifier(random_state=0)\n",
    "rfc.fit(X_train, y_train)\n",
    "\n",
    "# 결과 확인\n",
    "acc_train_rfc = rfc.score(X_train, y_train)\n",
    "acc_test_rfc = rfc.score(X_test, y_test)\n",
    "\n",
    "print(\"학습 결과 = \", acc_train_rfc)\n",
    "print(\"검증 결과 = \", acc_test_rfc)"
   ]
  },
  {
   "cell_type": "markdown",
   "metadata": {},
   "source": [
    "#### 4.그래프 그리기"
   ]
  },
  {
   "cell_type": "code",
   "execution_count": 59,
   "metadata": {},
   "outputs": [
    {
     "data": {
      "image/png": "[encoded data removed]",
      "text/plain": [
       "<Figure size 640x480 with 1 Axes>"
      ]
     },
     "metadata": {},
     "output_type": "display_data"
    }
   ],
   "source": [
    "# x축 정의\n",
    "acc_list_x = ['dct_train', 'dct_test', 'rfc_train', 'rfc_test']\n",
    "# y축 정의\n",
    "acc_list_y = [acc_train_dct, acc_test_dct, acc_train_rfc, acc_test_rfc]\n",
    "\n",
    "# 색 지정\n",
    "colors = ['orange' , 'orange', 'blue', 'blue']\n",
    "\n",
    "#막대 그래프 그리기\n",
    "plt.bar(acc_list_x, acc_list_y, color=colors)\n",
    "plt.show()"
   ]
  },
  {
   "cell_type": "markdown",
   "metadata": {},
   "source": [
    "#### 결과\n",
    "1. 의사결정나무의 test 결과 < 랜덤포레스트의 test 결과  \n",
    "--> 과대적합이 방지되어 test결과를 더 잘 맞췄음"
   ]
  },
  {
   "cell_type": "markdown",
   "metadata": {},
   "source": [
    "### 7-2-2. DTC와 RFC 차이점 알아보기\n",
    "- bootstrap 활용에 따른 차이\n",
    "- 모델 결합 제합(1개로 제한)"
   ]
  },
  {
   "cell_type": "code",
   "execution_count": 60,
   "metadata": {},
   "outputs": [
    {
     "name": "stdout",
     "output_type": "stream",
     "text": [
      "rfc 학습 결과 =  1.0\n",
      "rfc 검증 결과 =  0.8773\n",
      "dct 학습 결과 =  1.0\n",
      "dct 검증 결과 =  0.8781\n"
     ]
    }
   ],
   "source": [
    "rfc = RandomForestClassifier(random_state=0,\n",
    "                             n_estimators=1,\n",
    "                             max_features=None,\n",
    "                             bootstrap=False)\n",
    "rfc.fit(X_train, y_train)\n",
    "\n",
    "acc_train_rfc = rfc.score(X_train, y_train)\n",
    "acc_test_rfc = rfc.score(X_test, y_test)\n",
    "\n",
    "acc_train_dct = dct.score(X_train, y_train)\n",
    "acc_test_dct = dct.score(X_test, y_test)\n",
    "\n",
    "print(\"rfc 학습 결과 = \", acc_train_rfc)\n",
    "print(\"rfc 검증 결과 = \", acc_test_rfc)\n",
    "print(\"dct 학습 결과 = \", acc_train_dct)\n",
    "print(\"dct 검증 결과 = \", acc_test_dct)"
   ]
  },
  {
   "cell_type": "markdown",
   "metadata": {},
   "source": [
    "## 7-3.Boosting\n",
    "- 예측력이 약한 모델 여러 개를 순차적으로 연결하여 예측력이 강한 모델을 만드는 앙상블 방법\n",
    "- 모델을 직렬로 결합 --> 앞선 모델이 예측한 것 중 틀린 데이터에 가중치를 부여하여 틀린 데이터를 더 잘 맞히도록 학습함\n",
    "- 대표 모델 : 아다부스트(Adaboost), 그래디언트 부스팅(gradient boosting), 엑스지 부스트(XGBoost), 라이트지비엔(LightGBM)\n",
    "- 진행 순서\n",
    "    - 학습 데이터의 관측치를 동일한 가중치로 세팅하여 학습 / 모델 예측 수행\n",
    "    - 모델 예측에 의해 오분류된 관측치에는 높은 가중치 부여, 정분류된 관측치에는 낮은 가중치 부여\n",
    "    - 학습데이터를 다시 샘플링하여 학습\n",
    "    - 각 모델의 예측 결과를 결합할 때 각 모델에 가중치를 주어 가중 평균으로 최종값 계산"
   ]
  },
  {
   "cell_type": "markdown",
   "metadata": {},
   "source": [
    "### 7-3-1.Gradient Boosting 실습\n",
    "- 장점 \n",
    "    - 이진분류, 연속적인 수치 예측에도 작동을 잘함\n",
    "- 단점\n",
    "    - 희소한 고차원 데이터에서 잘 작동하지 않음\n",
    "    - 훈련시간이 배깅 알고리즘보다 오래 걸림(직렬이기 때문에)\n",
    "---\n",
    "- 하이퍼파라미터 \n",
    "    - learning_rate = 학습률, 너무 크면 성능을 떨어뜨리고, 너무 작으면 학습이 느림. \n",
    "    - n_estimators 와 같이 튜닝해야 함. default = 0.1\n",
    "    - n_estimators : 부스팅 스테이지 수, default=100(커질수록 과대적합 확률이 높음)\n",
    "    - max_depth : 트리의 깊이, 과대적합 방지용. default = 3\n",
    "    - subsample : 샘플 사용 비율, 과대적합 방지용, default = 1.0\n",
    "    - max_features : 최대로 사용할 feature의 비율, 과대적합 방지용, default = 1.0"
   ]
  },
  {
   "cell_type": "markdown",
   "metadata": {},
   "source": [
    "#### 1.데이터 준비"
   ]
  },
  {
   "cell_type": "code",
   "execution_count": 62,
   "metadata": {},
   "outputs": [
    {
     "data": {
      "image/png": "[encoded data removed]",
      "text/plain": [
       "<Figure size 640x480 with 1 Axes>"
      ]
     },
     "metadata": {},
     "output_type": "display_data"
    },
    {
     "data": {
      "image/png": "[encoded data removed]",
      "text/plain": [
       "<Figure size 640x480 with 1 Axes>"
      ]
     },
     "metadata": {},
     "output_type": "display_data"
    }
   ],
   "source": [
    "(x_train, y_train), (x_test, y_test) = load_data()\n",
    "\n",
    "x_train = x_train[:2000]\n",
    "x_test = x_test[:2000]\n",
    "y_train = y_train[:2000]\n",
    "y_test = y_test[:2000]\n",
    "\n",
    "plt.imshow(x_train[7], cmap = 'Greys')\n",
    "plt.show()\n",
    "\n",
    "plt.imshow(x_train[1], cmap='Greys')\n",
    "plt.show()"
   ]
  },
  {
   "cell_type": "code",
   "execution_count": 63,
   "metadata": {},
   "outputs": [
    {
     "name": "stdout",
     "output_type": "stream",
     "text": [
      "변경 전  (2000, 28, 28)\n",
      "변경 후  (2000, 784)\n"
     ]
    }
   ],
   "source": [
    "print(\"변경 전 \", x_train.shape)\n",
    "\n",
    "# 3차원의 이미지 행렬을 2차원으로 변경\n",
    "X_train = x_train.reshape(-1, 784)\n",
    "X_test = x_test.reshape(-1, 784)\n",
    "print('변경 후 ', X_train.shape)"
   ]
  },
  {
   "cell_type": "markdown",
   "metadata": {},
   "source": [
    "#### 2.의사결정나무 모델링"
   ]
  },
  {
   "cell_type": "code",
   "execution_count": 64,
   "metadata": {},
   "outputs": [
    {
     "name": "stdout",
     "output_type": "stream",
     "text": [
      "학습 결과 =  1.0\n",
      "검증 결과 =  0.6525\n"
     ]
    }
   ],
   "source": [
    "# 학습\n",
    "dct = DecisionTreeClassifier(random_state=0)\n",
    "dct.fit(X_train, y_train)\n",
    "\n",
    "# 결과 확인\n",
    "acc_train_dct = dct.score(X_train, y_train)\n",
    "acc_test_dct = dct.score(X_test, y_test)\n",
    "\n",
    "print(\"학습 결과 = \", acc_train_dct)\n",
    "print(\"검증 결과 = \", acc_test_dct)"
   ]
  },
  {
   "cell_type": "markdown",
   "metadata": {},
   "source": [
    "#### 3.랜덤포레스트 모델링"
   ]
  },
  {
   "cell_type": "code",
   "execution_count": 65,
   "metadata": {},
   "outputs": [
    {
     "name": "stdout",
     "output_type": "stream",
     "text": [
      "학습 결과 =  1.0\n",
      "검증 결과 =  0.8745\n"
     ]
    }
   ],
   "source": [
    "# 학습\n",
    "rfc = RandomForestClassifier(random_state=0)\n",
    "rfc.fit(X_train, y_train)\n",
    "\n",
    "# 결과 확인\n",
    "acc_train_rfc = rfc.score(X_train, y_train)\n",
    "acc_test_rfc = rfc.score(X_test, y_test)\n",
    "\n",
    "print(\"학습 결과 = \", acc_train_rfc)\n",
    "print(\"검증 결과 = \", acc_test_rfc)"
   ]
  },
  {
   "cell_type": "markdown",
   "metadata": {},
   "source": [
    "#### 4.그래디언트 부스팅 모델링\n",
    "참고 : https://scikit-learn.org/stable/modules/generated/sklearn.ensemble.GradientBoostingClassifier.html"
   ]
  },
  {
   "cell_type": "code",
   "execution_count": 66,
   "metadata": {},
   "outputs": [
    {
     "name": "stdout",
     "output_type": "stream",
     "text": [
      "      Iter       Train Loss   Remaining Time \n",
      "         1           1.8398            1.13m\n",
      "         2           1.5879            1.08m\n",
      "         3           1.4024            1.06m\n",
      "         4           1.2584            1.05m\n",
      "         5           1.1338            1.04m\n",
      "         6           1.0258            1.03m\n",
      "         7           0.9359            1.02m\n",
      "         8           0.8556            1.00m\n",
      "         9           0.7863           59.57s\n",
      "        10           0.7247           59.02s\n",
      "        20           0.3653           52.36s\n",
      "        30           0.2167           45.71s\n",
      "        40           0.1423           39.08s\n",
      "        50           0.0982           32.57s\n",
      "        60           0.0720           26.19s\n",
      "        70           0.0540           19.73s\n",
      "        80           0.0410           13.18s\n",
      "        90           0.0321            6.61s\n",
      "       100           0.0252            0.00s\n",
      "학습 결과 =  1.0\n",
      "검증 결과 =  0.8275\n"
     ]
    }
   ],
   "source": [
    "from sklearn.ensemble import GradientBoostingClassifier\n",
    "\n",
    "# 학습\n",
    "gbc = GradientBoostingClassifier(random_state=0, verbose=1)\n",
    "gbc.fit(X_train, y_train)\n",
    "\n",
    "# 결과 확인\n",
    "acc_train_gbc = gbc.score(X_train, y_train)\n",
    "acc_test_gbc = gbc.score(X_test, y_test)\n",
    "\n",
    "print(\"학습 결과 = \", acc_train_gbc)\n",
    "print(\"검증 결과 = \", acc_test_gbc)"
   ]
  },
  {
   "cell_type": "code",
   "execution_count": 71,
   "metadata": {},
   "outputs": [
    {
     "name": "stdout",
     "output_type": "stream",
     "text": [
      "dct_train = 1.0\n",
      "dct_test = 0.6525\n",
      "rfc_train = 1.0\n",
      "rfc_test = 0.8745\n",
      "gbc_train = 1.0\n",
      "gbc_test = 0.8275\n"
     ]
    }
   ],
   "source": [
    "names = ['dct_train', 'dct_test', 'rfc_train', 'rfc_test', 'gbc_train', 'gbc_test']\n",
    "results = [acc_train_dct, acc_test_dct, acc_train_rfc, acc_test_rfc, acc_train_gbc, acc_test_gbc]\n",
    "\n",
    "for name, result in zip(names, results):\n",
    "    print(f\"{name} = {result}\")"
   ]
  },
  {
   "cell_type": "markdown",
   "metadata": {},
   "source": [
    "#### 4.그래프 그리기"
   ]
  },
  {
   "cell_type": "code",
   "execution_count": 70,
   "metadata": {},
   "outputs": [
    {
     "data": {
      "image/png": "[encoded data removed]",
      "text/plain": [
       "<Figure size 640x480 with 1 Axes>"
      ]
     },
     "metadata": {},
     "output_type": "display_data"
    }
   ],
   "source": [
    "# x축 정의\n",
    "acc_list_x = ['dct_train', 'dct_test', 'rfc_train', 'rfc_test', 'gbc_train', 'gbc_test']\n",
    "# y축 정의\n",
    "acc_list_y = [acc_train_dct, acc_test_dct, acc_train_rfc, acc_test_rfc, acc_train_gbc, acc_test_gbc]\n",
    "\n",
    "# 색 지정\n",
    "colors = ['orange' , 'orange', 'blue', 'blue', 'red', 'red']\n",
    "\n",
    "#막대 그래프 그리기\n",
    "plt.bar(acc_list_x, acc_list_y, color=colors)\n",
    "plt.ylim([0.6, 1.0])\n",
    "plt.show()"
   ]
  }
 ],
 "metadata": {
  "kernelspec": {
   "display_name": "base",
   "language": "python",
   "name": "python3"
  },
  "language_info": {
   "codemirror_mode": {
    "name": "ipython",
    "version": 3
   },
   "file_extension": ".py",
   "mimetype": "text/x-python",
   "name": "python",
   "nbconvert_exporter": "python",
   "pygments_lexer": "ipython3",
   "version": "3.11.3"
  },
  "orig_nbformat": 4
 },
 "nbformat": 4,
 "nbformat_minor": 2
}
